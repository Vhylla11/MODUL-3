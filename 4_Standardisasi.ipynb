{
 "nbformat": 4,
 "nbformat_minor": 2,
 "metadata": {
  "language_info": {
   "name": "python",
   "codemirror_mode": {
    "name": "ipython",
    "version": 3
   },
   "version": "3.7.4-final"
  },
  "orig_nbformat": 2,
  "file_extension": ".py",
  "mimetype": "text/x-python",
  "name": "python",
  "npconvert_exporter": "python",
  "pygments_lexer": "ipython3",
  "version": 3,
  "kernelspec": {
   "name": "python37464bitbaseconda4c82c86dff3e401389916d359eb045bd",
   "display_name": "Python 3.7.4 64-bit ('base': conda)"
  }
 },
 "cells": [
  {
   "cell_type": "markdown",
   "execution_count": null,
   "metadata": {},
   "outputs": [],
   "source": [
    "# Standardisasi"
   ]
  },
  {
   "cell_type": "code",
   "execution_count": 3,
   "metadata": {},
   "outputs": [],
   "source": [
    "import pandas as pd\n",
    "import numpy as np\n",
    "import matplotlib.pyplot as plt"
   ]
  },
  {
   "cell_type": "code",
   "execution_count": 6,
   "metadata": {},
   "outputs": [
    {
     "data": {
      "text/html": "<div>\n<style scoped>\n    .dataframe tbody tr th:only-of-type {\n        vertical-align: middle;\n    }\n\n    .dataframe tbody tr th {\n        vertical-align: top;\n    }\n\n    .dataframe thead th {\n        text-align: right;\n    }\n</style>\n<table border=\"1\" class=\"dataframe\">\n  <thead>\n    <tr style=\"text-align: right;\">\n      <th></th>\n      <th>TB(m)</th>\n      <th>BB(kg)</th>\n    </tr>\n  </thead>\n  <tbody>\n    <tr>\n      <td>0</td>\n      <td>0.8</td>\n      <td>20</td>\n    </tr>\n    <tr>\n      <td>1</td>\n      <td>0.85</td>\n      <td>25</td>\n    </tr>\n    <tr>\n      <td>2</td>\n      <td>0.92</td>\n      <td>21</td>\n    </tr>\n    <tr>\n      <td>3</td>\n      <td>0.88</td>\n      <td>29</td>\n    </tr>\n    <tr>\n      <td>4</td>\n      <td>0.82</td>\n      <td>30</td>\n    </tr>\n    <tr>\n      <td>5</td>\n      <td>0.86</td>\n      <td>21</td>\n    </tr>\n    <tr>\n      <td>6</td>\n      <td>0.87</td>\n      <td>28</td>\n    </tr>\n    <tr>\n      <td>7</td>\n      <td>0.93</td>\n      <td>27</td>\n    </tr>\n    <tr>\n      <td>8</td>\n      <td>0.81</td>\n      <td>29</td>\n    </tr>\n    <tr>\n      <td>9</td>\n      <td>1</td>\n      <td>30</td>\n    </tr>\n  </tbody>\n</table>\n</div>",
      "text/plain": "  TB(m) BB(kg)\n0   0.8     20\n1  0.85     25\n2  0.92     21\n3  0.88     29\n4  0.82     30\n5  0.86     21\n6  0.87     28\n7  0.93     27\n8  0.81     29\n9     1     30"
     },
     "execution_count": 6,
     "metadata": {},
     "output_type": "execute_result"
    }
   ],
   "source": [
    "df = pd.read_excel('standardisasi.xlsx', skiprows=1, header=1).iloc[:10]\n",
    "df = df[['TB(m)','BB(kg)']]\n",
    "df"
   ]
  },
  {
   "cell_type": "markdown",
   "execution_count": 7,
   "metadata": {},
   "outputs": [
    {
     "ename": "SyntaxError",
     "evalue": "invalid syntax (<ipython-input-7-f9510ec4b398>, line 3)",
     "output_type": "error",
     "traceback": [
      "\u001b[1;36m  File \u001b[1;32m\"<ipython-input-7-f9510ec4b398>\"\u001b[1;36m, line \u001b[1;32m3\u001b[0m\n\u001b[1;33m    Standardisasi $\\displaystyle z = \\frac {X - \\bar{X}{s}\u001b[0m\n\u001b[1;37m                  ^\u001b[0m\n\u001b[1;31mSyntaxError\u001b[0m\u001b[1;31m:\u001b[0m invalid syntax\n"
     ]
    }
   ],
   "source": [
    "<hr>\n",
    "\n",
    "## Standardisasi Formula\n",
    "\n",
    "Standardisasi $\\displaystyle z = \\frac {x - \\bar{x}}{s} $\n",
    "dengan nilai standard deviasi $ ddof = 0 $ yaitu $\\displaystyle s = \\sqrt { \\frac {\\sum (x- \\bar{x}^2}{n-0}} $\n",
    "\n",
    "- High Outlier jika $ z_{score} > 2.5 $\n",
    "- Low Outlier jika $ z_{score} < -2.5 $\n",
    "- Data terstandardisasi mean ~ 0 dan std ~ 1"
   ]
  },
  {
   "cell_type": "code",
   "execution_count": 7,
   "metadata": {},
   "outputs": [
    {
     "data": {
      "text/plain": "0.06186005711819757"
     },
     "execution_count": 7,
     "metadata": {},
     "output_type": "execute_result"
    }
   ],
   "source": [
    "# Standar Deviasi dari pandas .std() => ddof = 1 sama dengan excel\n",
    "df['TB(m)'].std()"
   ]
  },
  {
   "cell_type": "code",
   "execution_count": 8,
   "metadata": {},
   "outputs": [
    {
     "data": {
      "text/plain": "0.05868560300448484"
     },
     "execution_count": 8,
     "metadata": {},
     "output_type": "execute_result"
    }
   ],
   "source": [
    "# Standar Deviasi dari numpy np.std() => ddof = 0 secara default\n",
    "np.std(df['TB(m)'])"
   ]
  },
  {
   "cell_type": "code",
   "execution_count": 9,
   "metadata": {},
   "outputs": [
    {
     "data": {
      "text/plain": "0.06186005711819757"
     },
     "execution_count": 9,
     "metadata": {},
     "output_type": "execute_result"
    }
   ],
   "source": [
    "np.std(df['TB(m)'],ddof=1) # agar sama hasilnya dengan pandas, perlu ditambahkan ddof=1"
   ]
  },
  {
   "cell_type": "code",
   "execution_count": 10,
   "metadata": {},
   "outputs": [
    {
     "data": {
      "text/html": "<div>\n<style scoped>\n    .dataframe tbody tr th:only-of-type {\n        vertical-align: middle;\n    }\n\n    .dataframe tbody tr th {\n        vertical-align: top;\n    }\n\n    .dataframe thead th {\n        text-align: right;\n    }\n</style>\n<table border=\"1\" class=\"dataframe\">\n  <thead>\n    <tr style=\"text-align: right;\">\n      <th></th>\n      <th>TB(m)</th>\n      <th>BB(kg)</th>\n      <th>Z TB PD</th>\n      <th>Z BB PD</th>\n    </tr>\n  </thead>\n  <tbody>\n    <tr>\n      <td>0</td>\n      <td>0.8</td>\n      <td>20</td>\n      <td>-1.19625</td>\n      <td>-1.51053</td>\n    </tr>\n    <tr>\n      <td>1</td>\n      <td>0.85</td>\n      <td>25</td>\n      <td>-0.387972</td>\n      <td>-0.251754</td>\n    </tr>\n    <tr>\n      <td>2</td>\n      <td>0.92</td>\n      <td>21</td>\n      <td>0.743614</td>\n      <td>-1.25877</td>\n    </tr>\n    <tr>\n      <td>3</td>\n      <td>0.88</td>\n      <td>29</td>\n      <td>0.0969931</td>\n      <td>0.755263</td>\n    </tr>\n    <tr>\n      <td>4</td>\n      <td>0.82</td>\n      <td>30</td>\n      <td>-0.872938</td>\n      <td>1.00702</td>\n    </tr>\n    <tr>\n      <td>5</td>\n      <td>0.86</td>\n      <td>21</td>\n      <td>-0.226317</td>\n      <td>-1.25877</td>\n    </tr>\n    <tr>\n      <td>6</td>\n      <td>0.87</td>\n      <td>28</td>\n      <td>-0.0646621</td>\n      <td>0.503509</td>\n    </tr>\n    <tr>\n      <td>7</td>\n      <td>0.93</td>\n      <td>27</td>\n      <td>0.905269</td>\n      <td>0.251754</td>\n    </tr>\n    <tr>\n      <td>8</td>\n      <td>0.81</td>\n      <td>29</td>\n      <td>-1.03459</td>\n      <td>0.755263</td>\n    </tr>\n    <tr>\n      <td>9</td>\n      <td>1</td>\n      <td>30</td>\n      <td>2.03686</td>\n      <td>1.00702</td>\n    </tr>\n  </tbody>\n</table>\n</div>",
      "text/plain": "  TB(m) BB(kg)    Z TB PD   Z BB PD\n0   0.8     20   -1.19625  -1.51053\n1  0.85     25  -0.387972 -0.251754\n2  0.92     21   0.743614  -1.25877\n3  0.88     29  0.0969931  0.755263\n4  0.82     30  -0.872938   1.00702\n5  0.86     21  -0.226317  -1.25877\n6  0.87     28 -0.0646621  0.503509\n7  0.93     27   0.905269  0.251754\n8  0.81     29   -1.03459  0.755263\n9     1     30    2.03686   1.00702"
     },
     "execution_count": 10,
     "metadata": {},
     "output_type": "execute_result"
    }
   ],
   "source": [
    "# Standardisasi z score with std from pandas\n",
    "df['Z TB PD'] = (df['TB(m)'] - df['TB(m)'].mean()) / df['TB(m)'].std()\n",
    "df['Z BB PD'] = (df['BB(kg)'] - df['BB(kg)'].mean()) / df['BB(kg)'].std()\n",
    "df"
   ]
  },
  {
   "cell_type": "code",
   "execution_count": 11,
   "metadata": {},
   "outputs": [
    {
     "data": {
      "text/html": "<div>\n<style scoped>\n    .dataframe tbody tr th:only-of-type {\n        vertical-align: middle;\n    }\n\n    .dataframe tbody tr th {\n        vertical-align: top;\n    }\n\n    .dataframe thead th {\n        text-align: right;\n    }\n</style>\n<table border=\"1\" class=\"dataframe\">\n  <thead>\n    <tr style=\"text-align: right;\">\n      <th></th>\n      <th>TB(m)</th>\n      <th>BB(kg)</th>\n      <th>Z TB PD</th>\n      <th>Z BB PD</th>\n      <th>Z TB NP</th>\n      <th>Z BB NP</th>\n    </tr>\n  </thead>\n  <tbody>\n    <tr>\n      <td>0</td>\n      <td>0.8</td>\n      <td>20</td>\n      <td>-1.19625</td>\n      <td>-1.51053</td>\n      <td>-1.26096</td>\n      <td>-1.59223</td>\n    </tr>\n    <tr>\n      <td>1</td>\n      <td>0.85</td>\n      <td>25</td>\n      <td>-0.387972</td>\n      <td>-0.251754</td>\n      <td>-0.408959</td>\n      <td>-0.265372</td>\n    </tr>\n    <tr>\n      <td>2</td>\n      <td>0.92</td>\n      <td>21</td>\n      <td>0.743614</td>\n      <td>-1.25877</td>\n      <td>0.783838</td>\n      <td>-1.32686</td>\n    </tr>\n    <tr>\n      <td>3</td>\n      <td>0.88</td>\n      <td>29</td>\n      <td>0.0969931</td>\n      <td>0.755263</td>\n      <td>0.10224</td>\n      <td>0.796117</td>\n    </tr>\n    <tr>\n      <td>4</td>\n      <td>0.82</td>\n      <td>30</td>\n      <td>-0.872938</td>\n      <td>1.00702</td>\n      <td>-0.920158</td>\n      <td>1.06149</td>\n    </tr>\n    <tr>\n      <td>5</td>\n      <td>0.86</td>\n      <td>21</td>\n      <td>-0.226317</td>\n      <td>-1.25877</td>\n      <td>-0.238559</td>\n      <td>-1.32686</td>\n    </tr>\n    <tr>\n      <td>6</td>\n      <td>0.87</td>\n      <td>28</td>\n      <td>-0.0646621</td>\n      <td>0.503509</td>\n      <td>-0.0681598</td>\n      <td>0.530745</td>\n    </tr>\n    <tr>\n      <td>7</td>\n      <td>0.93</td>\n      <td>27</td>\n      <td>0.905269</td>\n      <td>0.251754</td>\n      <td>0.954237</td>\n      <td>0.265372</td>\n    </tr>\n    <tr>\n      <td>8</td>\n      <td>0.81</td>\n      <td>29</td>\n      <td>-1.03459</td>\n      <td>0.755263</td>\n      <td>-1.09056</td>\n      <td>0.796117</td>\n    </tr>\n    <tr>\n      <td>9</td>\n      <td>1</td>\n      <td>30</td>\n      <td>2.03686</td>\n      <td>1.00702</td>\n      <td>2.14703</td>\n      <td>1.06149</td>\n    </tr>\n  </tbody>\n</table>\n</div>",
      "text/plain": "  TB(m) BB(kg)    Z TB PD   Z BB PD    Z TB NP   Z BB NP\n0   0.8     20   -1.19625  -1.51053   -1.26096  -1.59223\n1  0.85     25  -0.387972 -0.251754  -0.408959 -0.265372\n2  0.92     21   0.743614  -1.25877   0.783838  -1.32686\n3  0.88     29  0.0969931  0.755263    0.10224  0.796117\n4  0.82     30  -0.872938   1.00702  -0.920158   1.06149\n5  0.86     21  -0.226317  -1.25877  -0.238559  -1.32686\n6  0.87     28 -0.0646621  0.503509 -0.0681598  0.530745\n7  0.93     27   0.905269  0.251754   0.954237  0.265372\n8  0.81     29   -1.03459  0.755263   -1.09056  0.796117\n9     1     30    2.03686   1.00702    2.14703   1.06149"
     },
     "execution_count": 11,
     "metadata": {},
     "output_type": "execute_result"
    }
   ],
   "source": [
    "# Standardisasi z score with np.std from numpy\n",
    "df['Z TB NP'] = (df['TB(m)'] - df['TB(m)'].mean()) / np.std(df['TB(m)'])\n",
    "df['Z BB NP'] = (df['BB(kg)'] - df['BB(kg)'].mean()) / np.std(df['BB(kg)'])\n",
    "df"
   ]
  },
  {
   "cell_type": "code",
   "execution_count": 12,
   "metadata": {},
   "outputs": [
    {
     "name": "stdout",
     "output_type": "stream",
     "text": "1.7763568394002506e-16\n1.3322676295501878e-16\n-8.881784197001253e-17\n0.0\n1.0000000000000002\n1.0540925533894598\n1.0\n1.0540925533894598\n"
    }
   ],
   "source": [
    "# Standardisasai mean ~ 0 dan std ~ 1\n",
    "print(df['Z TB PD'].mean())\n",
    "print(df['Z TB NP'].mean())\n",
    "print(df['Z BB PD'].mean())\n",
    "print(df['Z BB NP'].mean())\n",
    "\n",
    "print(df['Z TB PD'].std())\n",
    "print(df['Z TB NP'].std())\n",
    "print(df['Z BB PD'].std())\n",
    "print(df['Z BB NP'].std())"
   ]
  },
  {
   "cell_type": "code",
   "execution_count": 13,
   "metadata": {},
   "outputs": [
    {
     "data": {
      "text/plain": "<matplotlib.collections.PathCollection at 0x1b3fc23c048>"
     },
     "execution_count": 13,
     "metadata": {},
     "output_type": "execute_result"
    },
    {
     "data": {
      "image/png": "[encoded data removed]",
      "image/svg+xml": "<?xml version=\"1.0\" encoding=\"utf-8\" standalone=\"no\"?>\r\n<!DOCTYPE svg PUBLIC \"-//W3C//DTD SVG 1.1//EN\"\r\n  \"http://www.w3.org/Graphics/SVG/1.1/DTD/svg11.dtd\">\r\n<!-- Created with matplotlib (https://matplotlib.org/) -->\r\n<svg height=\"248.518125pt\" version=\"1.1\" viewBox=\"0 0 368.925 248.518125\" width=\"368.925pt\" xmlns=\"http://www.w3.org/2000/svg\" xmlns:xlink=\"http://www.w3.org/1999/xlink\">\r\n <defs>\r\n  <style type=\"text/css\">\r\n*{stroke-linecap:butt;stroke-linejoin:round;}\r\n  </style>\r\n </defs>\r\n <g id=\"figure_1\">\r\n  <g id=\"patch_1\">\r\n   <path d=\"M -0 248.518125 \r\nL 368.925 248.518125 \r\nL 368.925 0 \r\nL -0 0 \r\nz\r\n\" style=\"fill:none;\"/>\r\n  </g>\r\n  <g id=\"axes_1\">\r\n   <g id=\"patch_2\">\r\n    <path d=\"M 26.925 224.64 \r\nL 125.395588 224.64 \r\nL 125.395588 7.2 \r\nL 26.925 7.2 \r\nz\r\n\" style=\"fill:#ffffff;\"/>\r\n   </g>\r\n   <g id=\"PathCollection_1\">\r\n    <defs>\r\n     <path d=\"M 0 3 \r\nC 0.795609 3 1.55874 2.683901 2.12132 2.12132 \r\nC 2.683901 1.55874 3 0.795609 3 0 \r\nC 3 -0.795609 2.683901 -1.55874 2.12132 -2.12132 \r\nC 1.55874 -2.683901 0.795609 -3 0 -3 \r\nC -0.795609 -3 -1.55874 -2.683901 -2.12132 -2.12132 \r\nC -2.683901 -1.55874 -3 -0.795609 -3 0 \r\nC -3 0.795609 -2.683901 1.55874 -2.12132 2.12132 \r\nC -1.55874 2.683901 -0.795609 3 0 3 \r\nz\r\n\" id=\"m80d2c6dfc2\" style=\"stroke:#1f77b4;\"/>\r\n    </defs>\r\n    <g clip-path=\"url(#p4bd5ce9d84)\">\r\n     <use style=\"fill:#1f77b4;stroke:#1f77b4;\" x=\"41.852984\" xlink:href=\"#m80d2c6dfc2\" y=\"214.484387\"/>\r\n     <use style=\"fill:#1f77b4;stroke:#1f77b4;\" x=\"59.006639\" xlink:href=\"#m80d2c6dfc2\" y=\"115.92\"/>\r\n     <use style=\"fill:#1f77b4;stroke:#1f77b4;\" x=\"83.021756\" xlink:href=\"#m80d2c6dfc2\" y=\"194.771509\"/>\r\n     <use style=\"fill:#1f77b4;stroke:#1f77b4;\" x=\"69.298832\" xlink:href=\"#m80d2c6dfc2\" y=\"37.068491\"/>\r\n     <use style=\"fill:#1f77b4;stroke:#1f77b4;\" x=\"48.714446\" xlink:href=\"#m80d2c6dfc2\" y=\"17.355613\"/>\r\n     <use style=\"fill:#1f77b4;stroke:#1f77b4;\" x=\"62.43737\" xlink:href=\"#m80d2c6dfc2\" y=\"194.771509\"/>\r\n     <use style=\"fill:#1f77b4;stroke:#1f77b4;\" x=\"65.868101\" xlink:href=\"#m80d2c6dfc2\" y=\"56.781368\"/>\r\n     <use style=\"fill:#1f77b4;stroke:#1f77b4;\" x=\"86.452487\" xlink:href=\"#m80d2c6dfc2\" y=\"76.494245\"/>\r\n     <use style=\"fill:#1f77b4;stroke:#1f77b4;\" x=\"45.283715\" xlink:href=\"#m80d2c6dfc2\" y=\"37.068491\"/>\r\n     <use style=\"fill:#1f77b4;stroke:#1f77b4;\" x=\"110.467604\" xlink:href=\"#m80d2c6dfc2\" y=\"17.355613\"/>\r\n    </g>\r\n   </g>\r\n   <g id=\"matplotlib.axis_1\">\r\n    <g id=\"xtick_1\">\r\n     <g id=\"line2d_1\">\r\n      <defs>\r\n       <path d=\"M 0 0 \r\nL 0 3.5 \r\n\" id=\"m7c0f074fd7\" style=\"stroke:#000000;stroke-width:0.8;\"/>\r\n      </defs>\r\n      <g>\r\n       <use style=\"stroke:#000000;stroke-width:0.8;\" x=\"41.852984\" xlink:href=\"#m7c0f074fd7\" y=\"224.64\"/>\r\n      </g>\r\n     </g>\r\n     <g id=\"text_1\">\r\n      <!-- 0.8 -->\r\n      <defs>\r\n       <path d=\"M 31.78125 66.40625 \r\nQ 24.171875 66.40625 20.328125 58.90625 \r\nQ 16.5 51.421875 16.5 36.375 \r\nQ 16.5 21.390625 20.328125 13.890625 \r\nQ 24.171875 6.390625 31.78125 6.390625 \r\nQ 39.453125 6.390625 43.28125 13.890625 \r\nQ 47.125 21.390625 47.125 36.375 \r\nQ 47.125 51.421875 43.28125 58.90625 \r\nQ 39.453125 66.40625 31.78125 66.40625 \r\nz\r\nM 31.78125 74.21875 \r\nQ 44.046875 74.21875 50.515625 64.515625 \r\nQ 56.984375 54.828125 56.984375 36.375 \r\nQ 56.984375 17.96875 50.515625 8.265625 \r\nQ 44.046875 -1.421875 31.78125 -1.421875 \r\nQ 19.53125 -1.421875 13.0625 8.265625 \r\nQ 6.59375 17.96875 6.59375 36.375 \r\nQ 6.59375 54.828125 13.0625 64.515625 \r\nQ 19.53125 74.21875 31.78125 74.21875 \r\nz\r\n\" id=\"DejaVuSans-48\"/>\r\n       <path d=\"M 10.6875 12.40625 \r\nL 21 12.40625 \r\nL 21 0 \r\nL 10.6875 0 \r\nz\r\n\" id=\"DejaVuSans-46\"/>\r\n       <path d=\"M 31.78125 34.625 \r\nQ 24.75 34.625 20.71875 30.859375 \r\nQ 16.703125 27.09375 16.703125 20.515625 \r\nQ 16.703125 13.921875 20.71875 10.15625 \r\nQ 24.75 6.390625 31.78125 6.390625 \r\nQ 38.8125 6.390625 42.859375 10.171875 \r\nQ 46.921875 13.96875 46.921875 20.515625 \r\nQ 46.921875 27.09375 42.890625 30.859375 \r\nQ 38.875 34.625 31.78125 34.625 \r\nz\r\nM 21.921875 38.8125 \r\nQ 15.578125 40.375 12.03125 44.71875 \r\nQ 8.5 49.078125 8.5 55.328125 \r\nQ 8.5 64.0625 14.71875 69.140625 \r\nQ 20.953125 74.21875 31.78125 74.21875 \r\nQ 42.671875 74.21875 48.875 69.140625 \r\nQ 55.078125 64.0625 55.078125 55.328125 \r\nQ 55.078125 49.078125 51.53125 44.71875 \r\nQ 48 40.375 41.703125 38.8125 \r\nQ 48.828125 37.15625 52.796875 32.3125 \r\nQ 56.78125 27.484375 56.78125 20.515625 \r\nQ 56.78125 9.90625 50.3125 4.234375 \r\nQ 43.84375 -1.421875 31.78125 -1.421875 \r\nQ 19.734375 -1.421875 13.25 4.234375 \r\nQ 6.78125 9.90625 6.78125 20.515625 \r\nQ 6.78125 27.484375 10.78125 32.3125 \r\nQ 14.796875 37.15625 21.921875 38.8125 \r\nz\r\nM 18.3125 54.390625 \r\nQ 18.3125 48.734375 21.84375 45.5625 \r\nQ 25.390625 42.390625 31.78125 42.390625 \r\nQ 38.140625 42.390625 41.71875 45.5625 \r\nQ 45.3125 48.734375 45.3125 54.390625 \r\nQ 45.3125 60.0625 41.71875 63.234375 \r\nQ 38.140625 66.40625 31.78125 66.40625 \r\nQ 25.390625 66.40625 21.84375 63.234375 \r\nQ 18.3125 60.0625 18.3125 54.390625 \r\nz\r\n\" id=\"DejaVuSans-56\"/>\r\n      </defs>\r\n      <g transform=\"translate(33.901421 239.238438)scale(0.1 -0.1)\">\r\n       <use xlink:href=\"#DejaVuSans-48\"/>\r\n       <use x=\"63.623047\" xlink:href=\"#DejaVuSans-46\"/>\r\n       <use x=\"95.410156\" xlink:href=\"#DejaVuSans-56\"/>\r\n      </g>\r\n     </g>\r\n    </g>\r\n    <g id=\"xtick_2\">\r\n     <g id=\"line2d_2\">\r\n      <g>\r\n       <use style=\"stroke:#000000;stroke-width:0.8;\" x=\"76.160294\" xlink:href=\"#m7c0f074fd7\" y=\"224.64\"/>\r\n      </g>\r\n     </g>\r\n     <g id=\"text_2\">\r\n      <!-- 0.9 -->\r\n      <defs>\r\n       <path d=\"M 10.984375 1.515625 \r\nL 10.984375 10.5 \r\nQ 14.703125 8.734375 18.5 7.8125 \r\nQ 22.3125 6.890625 25.984375 6.890625 \r\nQ 35.75 6.890625 40.890625 13.453125 \r\nQ 46.046875 20.015625 46.78125 33.40625 \r\nQ 43.953125 29.203125 39.59375 26.953125 \r\nQ 35.25 24.703125 29.984375 24.703125 \r\nQ 19.046875 24.703125 12.671875 31.3125 \r\nQ 6.296875 37.9375 6.296875 49.421875 \r\nQ 6.296875 60.640625 12.9375 67.421875 \r\nQ 19.578125 74.21875 30.609375 74.21875 \r\nQ 43.265625 74.21875 49.921875 64.515625 \r\nQ 56.59375 54.828125 56.59375 36.375 \r\nQ 56.59375 19.140625 48.40625 8.859375 \r\nQ 40.234375 -1.421875 26.421875 -1.421875 \r\nQ 22.703125 -1.421875 18.890625 -0.6875 \r\nQ 15.09375 0.046875 10.984375 1.515625 \r\nz\r\nM 30.609375 32.421875 \r\nQ 37.25 32.421875 41.125 36.953125 \r\nQ 45.015625 41.5 45.015625 49.421875 \r\nQ 45.015625 57.28125 41.125 61.84375 \r\nQ 37.25 66.40625 30.609375 66.40625 \r\nQ 23.96875 66.40625 20.09375 61.84375 \r\nQ 16.21875 57.28125 16.21875 49.421875 \r\nQ 16.21875 41.5 20.09375 36.953125 \r\nQ 23.96875 32.421875 30.609375 32.421875 \r\nz\r\n\" id=\"DejaVuSans-57\"/>\r\n      </defs>\r\n      <g transform=\"translate(68.208732 239.238438)scale(0.1 -0.1)\">\r\n       <use xlink:href=\"#DejaVuSans-48\"/>\r\n       <use x=\"63.623047\" xlink:href=\"#DejaVuSans-46\"/>\r\n       <use x=\"95.410156\" xlink:href=\"#DejaVuSans-57\"/>\r\n      </g>\r\n     </g>\r\n    </g>\r\n    <g id=\"xtick_3\">\r\n     <g id=\"line2d_3\">\r\n      <g>\r\n       <use style=\"stroke:#000000;stroke-width:0.8;\" x=\"110.467604\" xlink:href=\"#m7c0f074fd7\" y=\"224.64\"/>\r\n      </g>\r\n     </g>\r\n     <g id=\"text_3\">\r\n      <!-- 1.0 -->\r\n      <defs>\r\n       <path d=\"M 12.40625 8.296875 \r\nL 28.515625 8.296875 \r\nL 28.515625 63.921875 \r\nL 10.984375 60.40625 \r\nL 10.984375 69.390625 \r\nL 28.421875 72.90625 \r\nL 38.28125 72.90625 \r\nL 38.28125 8.296875 \r\nL 54.390625 8.296875 \r\nL 54.390625 0 \r\nL 12.40625 0 \r\nz\r\n\" id=\"DejaVuSans-49\"/>\r\n      </defs>\r\n      <g transform=\"translate(102.516042 239.238438)scale(0.1 -0.1)\">\r\n       <use xlink:href=\"#DejaVuSans-49\"/>\r\n       <use x=\"63.623047\" xlink:href=\"#DejaVuSans-46\"/>\r\n       <use x=\"95.410156\" xlink:href=\"#DejaVuSans-48\"/>\r\n      </g>\r\n     </g>\r\n    </g>\r\n   </g>\r\n   <g id=\"matplotlib.axis_2\">\r\n    <g id=\"ytick_1\">\r\n     <g id=\"line2d_4\">\r\n      <defs>\r\n       <path d=\"M 0 0 \r\nL -3.5 0 \r\n\" id=\"m6e2bdd3f6d\" style=\"stroke:#000000;stroke-width:0.8;\"/>\r\n      </defs>\r\n      <g>\r\n       <use style=\"stroke:#000000;stroke-width:0.8;\" x=\"26.925\" xlink:href=\"#m6e2bdd3f6d\" y=\"214.484387\"/>\r\n      </g>\r\n     </g>\r\n     <g id=\"text_4\">\r\n      <!-- 20 -->\r\n      <defs>\r\n       <path d=\"M 19.1875 8.296875 \r\nL 53.609375 8.296875 \r\nL 53.609375 0 \r\nL 7.328125 0 \r\nL 7.328125 8.296875 \r\nQ 12.9375 14.109375 22.625 23.890625 \r\nQ 32.328125 33.6875 34.8125 36.53125 \r\nQ 39.546875 41.84375 41.421875 45.53125 \r\nQ 43.3125 49.21875 43.3125 52.78125 \r\nQ 43.3125 58.59375 39.234375 62.25 \r\nQ 35.15625 65.921875 28.609375 65.921875 \r\nQ 23.96875 65.921875 18.8125 64.3125 \r\nQ 13.671875 62.703125 7.8125 59.421875 \r\nL 7.8125 69.390625 \r\nQ 13.765625 71.78125 18.9375 73 \r\nQ 24.125 74.21875 28.421875 74.21875 \r\nQ 39.75 74.21875 46.484375 68.546875 \r\nQ 53.21875 62.890625 53.21875 53.421875 \r\nQ 53.21875 48.921875 51.53125 44.890625 \r\nQ 49.859375 40.875 45.40625 35.40625 \r\nQ 44.1875 33.984375 37.640625 27.21875 \r\nQ 31.109375 20.453125 19.1875 8.296875 \r\nz\r\n\" id=\"DejaVuSans-50\"/>\r\n      </defs>\r\n      <g transform=\"translate(7.2 218.283606)scale(0.1 -0.1)\">\r\n       <use xlink:href=\"#DejaVuSans-50\"/>\r\n       <use x=\"63.623047\" xlink:href=\"#DejaVuSans-48\"/>\r\n      </g>\r\n     </g>\r\n    </g>\r\n    <g id=\"ytick_2\">\r\n     <g id=\"line2d_5\">\r\n      <g>\r\n       <use style=\"stroke:#000000;stroke-width:0.8;\" x=\"26.925\" xlink:href=\"#m6e2bdd3f6d\" y=\"175.058632\"/>\r\n      </g>\r\n     </g>\r\n     <g id=\"text_5\">\r\n      <!-- 22 -->\r\n      <g transform=\"translate(7.2 178.857851)scale(0.1 -0.1)\">\r\n       <use xlink:href=\"#DejaVuSans-50\"/>\r\n       <use x=\"63.623047\" xlink:href=\"#DejaVuSans-50\"/>\r\n      </g>\r\n     </g>\r\n    </g>\r\n    <g id=\"ytick_3\">\r\n     <g id=\"line2d_6\">\r\n      <g>\r\n       <use style=\"stroke:#000000;stroke-width:0.8;\" x=\"26.925\" xlink:href=\"#m6e2bdd3f6d\" y=\"135.632877\"/>\r\n      </g>\r\n     </g>\r\n     <g id=\"text_6\">\r\n      <!-- 24 -->\r\n      <defs>\r\n       <path d=\"M 37.796875 64.3125 \r\nL 12.890625 25.390625 \r\nL 37.796875 25.390625 \r\nz\r\nM 35.203125 72.90625 \r\nL 47.609375 72.90625 \r\nL 47.609375 25.390625 \r\nL 58.015625 25.390625 \r\nL 58.015625 17.1875 \r\nL 47.609375 17.1875 \r\nL 47.609375 0 \r\nL 37.796875 0 \r\nL 37.796875 17.1875 \r\nL 4.890625 17.1875 \r\nL 4.890625 26.703125 \r\nz\r\n\" id=\"DejaVuSans-52\"/>\r\n      </defs>\r\n      <g transform=\"translate(7.2 139.432096)scale(0.1 -0.1)\">\r\n       <use xlink:href=\"#DejaVuSans-50\"/>\r\n       <use x=\"63.623047\" xlink:href=\"#DejaVuSans-52\"/>\r\n      </g>\r\n     </g>\r\n    </g>\r\n    <g id=\"ytick_4\">\r\n     <g id=\"line2d_7\">\r\n      <g>\r\n       <use style=\"stroke:#000000;stroke-width:0.8;\" x=\"26.925\" xlink:href=\"#m6e2bdd3f6d\" y=\"96.207123\"/>\r\n      </g>\r\n     </g>\r\n     <g id=\"text_7\">\r\n      <!-- 26 -->\r\n      <defs>\r\n       <path d=\"M 33.015625 40.375 \r\nQ 26.375 40.375 22.484375 35.828125 \r\nQ 18.609375 31.296875 18.609375 23.390625 \r\nQ 18.609375 15.53125 22.484375 10.953125 \r\nQ 26.375 6.390625 33.015625 6.390625 \r\nQ 39.65625 6.390625 43.53125 10.953125 \r\nQ 47.40625 15.53125 47.40625 23.390625 \r\nQ 47.40625 31.296875 43.53125 35.828125 \r\nQ 39.65625 40.375 33.015625 40.375 \r\nz\r\nM 52.59375 71.296875 \r\nL 52.59375 62.3125 \r\nQ 48.875 64.0625 45.09375 64.984375 \r\nQ 41.3125 65.921875 37.59375 65.921875 \r\nQ 27.828125 65.921875 22.671875 59.328125 \r\nQ 17.53125 52.734375 16.796875 39.40625 \r\nQ 19.671875 43.65625 24.015625 45.921875 \r\nQ 28.375 48.1875 33.59375 48.1875 \r\nQ 44.578125 48.1875 50.953125 41.515625 \r\nQ 57.328125 34.859375 57.328125 23.390625 \r\nQ 57.328125 12.15625 50.6875 5.359375 \r\nQ 44.046875 -1.421875 33.015625 -1.421875 \r\nQ 20.359375 -1.421875 13.671875 8.265625 \r\nQ 6.984375 17.96875 6.984375 36.375 \r\nQ 6.984375 53.65625 15.1875 63.9375 \r\nQ 23.390625 74.21875 37.203125 74.21875 \r\nQ 40.921875 74.21875 44.703125 73.484375 \r\nQ 48.484375 72.75 52.59375 71.296875 \r\nz\r\n\" id=\"DejaVuSans-54\"/>\r\n      </defs>\r\n      <g transform=\"translate(7.2 100.006341)scale(0.1 -0.1)\">\r\n       <use xlink:href=\"#DejaVuSans-50\"/>\r\n       <use x=\"63.623047\" xlink:href=\"#DejaVuSans-54\"/>\r\n      </g>\r\n     </g>\r\n    </g>\r\n    <g id=\"ytick_5\">\r\n     <g id=\"line2d_8\">\r\n      <g>\r\n       <use style=\"stroke:#000000;stroke-width:0.8;\" x=\"26.925\" xlink:href=\"#m6e2bdd3f6d\" y=\"56.781368\"/>\r\n      </g>\r\n     </g>\r\n     <g id=\"text_8\">\r\n      <!-- 28 -->\r\n      <g transform=\"translate(7.2 60.580587)scale(0.1 -0.1)\">\r\n       <use xlink:href=\"#DejaVuSans-50\"/>\r\n       <use x=\"63.623047\" xlink:href=\"#DejaVuSans-56\"/>\r\n      </g>\r\n     </g>\r\n    </g>\r\n    <g id=\"ytick_6\">\r\n     <g id=\"line2d_9\">\r\n      <g>\r\n       <use style=\"stroke:#000000;stroke-width:0.8;\" x=\"26.925\" xlink:href=\"#m6e2bdd3f6d\" y=\"17.355613\"/>\r\n      </g>\r\n     </g>\r\n     <g id=\"text_9\">\r\n      <!-- 30 -->\r\n      <defs>\r\n       <path d=\"M 40.578125 39.3125 \r\nQ 47.65625 37.796875 51.625 33 \r\nQ 55.609375 28.21875 55.609375 21.1875 \r\nQ 55.609375 10.40625 48.1875 4.484375 \r\nQ 40.765625 -1.421875 27.09375 -1.421875 \r\nQ 22.515625 -1.421875 17.65625 -0.515625 \r\nQ 12.796875 0.390625 7.625 2.203125 \r\nL 7.625 11.71875 \r\nQ 11.71875 9.328125 16.59375 8.109375 \r\nQ 21.484375 6.890625 26.8125 6.890625 \r\nQ 36.078125 6.890625 40.9375 10.546875 \r\nQ 45.796875 14.203125 45.796875 21.1875 \r\nQ 45.796875 27.640625 41.28125 31.265625 \r\nQ 36.765625 34.90625 28.71875 34.90625 \r\nL 20.21875 34.90625 \r\nL 20.21875 43.015625 \r\nL 29.109375 43.015625 \r\nQ 36.375 43.015625 40.234375 45.921875 \r\nQ 44.09375 48.828125 44.09375 54.296875 \r\nQ 44.09375 59.90625 40.109375 62.90625 \r\nQ 36.140625 65.921875 28.71875 65.921875 \r\nQ 24.65625 65.921875 20.015625 65.03125 \r\nQ 15.375 64.15625 9.8125 62.3125 \r\nL 9.8125 71.09375 \r\nQ 15.4375 72.65625 20.34375 73.4375 \r\nQ 25.25 74.21875 29.59375 74.21875 \r\nQ 40.828125 74.21875 47.359375 69.109375 \r\nQ 53.90625 64.015625 53.90625 55.328125 \r\nQ 53.90625 49.265625 50.4375 45.09375 \r\nQ 46.96875 40.921875 40.578125 39.3125 \r\nz\r\n\" id=\"DejaVuSans-51\"/>\r\n      </defs>\r\n      <g transform=\"translate(7.2 21.154832)scale(0.1 -0.1)\">\r\n       <use xlink:href=\"#DejaVuSans-51\"/>\r\n       <use x=\"63.623047\" xlink:href=\"#DejaVuSans-48\"/>\r\n      </g>\r\n     </g>\r\n    </g>\r\n   </g>\r\n   <g id=\"patch_3\">\r\n    <path d=\"M 26.925 224.64 \r\nL 26.925 7.2 \r\n\" style=\"fill:none;stroke:#000000;stroke-linecap:square;stroke-linejoin:miter;stroke-width:0.8;\"/>\r\n   </g>\r\n   <g id=\"patch_4\">\r\n    <path d=\"M 125.395588 224.64 \r\nL 125.395588 7.2 \r\n\" style=\"fill:none;stroke:#000000;stroke-linecap:square;stroke-linejoin:miter;stroke-width:0.8;\"/>\r\n   </g>\r\n   <g id=\"patch_5\">\r\n    <path d=\"M 26.925 224.64 \r\nL 125.395588 224.64 \r\n\" style=\"fill:none;stroke:#000000;stroke-linecap:square;stroke-linejoin:miter;stroke-width:0.8;\"/>\r\n   </g>\r\n   <g id=\"patch_6\">\r\n    <path d=\"M 26.925 7.2 \r\nL 125.395588 7.2 \r\n\" style=\"fill:none;stroke:#000000;stroke-linecap:square;stroke-linejoin:miter;stroke-width:0.8;\"/>\r\n   </g>\r\n  </g>\r\n  <g id=\"axes_2\">\r\n   <g id=\"patch_7\">\r\n    <path d=\"M 145.089706 224.64 \r\nL 243.560294 224.64 \r\nL 243.560294 7.2 \r\nL 145.089706 7.2 \r\nz\r\n\" style=\"fill:#ffffff;\"/>\r\n   </g>\r\n   <g id=\"PathCollection_2\">\r\n    <g clip-path=\"url(#p05c5a068a3)\">\r\n     <use style=\"fill:#1f77b4;stroke:#1f77b4;\" x=\"150.393584\" xlink:href=\"#m80d2c6dfc2\" y=\"213.684802\"/>\r\n     <use style=\"fill:#1f77b4;stroke:#1f77b4;\" x=\"172.359292\" xlink:href=\"#m80d2c6dfc2\" y=\"115.92\"/>\r\n     <use style=\"fill:#1f77b4;stroke:#1f77b4;\" x=\"203.111283\" xlink:href=\"#m80d2c6dfc2\" y=\"194.131841\"/>\r\n     <use style=\"fill:#1f77b4;stroke:#1f77b4;\" x=\"185.538717\" xlink:href=\"#m80d2c6dfc2\" y=\"37.708159\"/>\r\n     <use style=\"fill:#1f77b4;stroke:#1f77b4;\" x=\"159.179867\" xlink:href=\"#m80d2c6dfc2\" y=\"18.155198\"/>\r\n     <use style=\"fill:#1f77b4;stroke:#1f77b4;\" x=\"176.752434\" xlink:href=\"#m80d2c6dfc2\" y=\"194.131841\"/>\r\n     <use style=\"fill:#1f77b4;stroke:#1f77b4;\" x=\"181.145575\" xlink:href=\"#m80d2c6dfc2\" y=\"57.261119\"/>\r\n     <use style=\"fill:#1f77b4;stroke:#1f77b4;\" x=\"207.504425\" xlink:href=\"#m80d2c6dfc2\" y=\"76.814079\"/>\r\n     <use style=\"fill:#1f77b4;stroke:#1f77b4;\" x=\"154.786726\" xlink:href=\"#m80d2c6dfc2\" y=\"37.708159\"/>\r\n     <use style=\"fill:#1f77b4;stroke:#1f77b4;\" x=\"238.256416\" xlink:href=\"#m80d2c6dfc2\" y=\"18.155198\"/>\r\n    </g>\r\n   </g>\r\n   <g id=\"matplotlib.axis_3\">\r\n    <g id=\"xtick_4\">\r\n     <g id=\"line2d_10\">\r\n      <g>\r\n       <use style=\"stroke:#000000;stroke-width:0.8;\" x=\"182.902832\" xlink:href=\"#m7c0f074fd7\" y=\"224.64\"/>\r\n      </g>\r\n     </g>\r\n     <g id=\"text_10\">\r\n      <!-- 0 -->\r\n      <g transform=\"translate(179.721582 239.238438)scale(0.1 -0.1)\">\r\n       <use xlink:href=\"#DejaVuSans-48\"/>\r\n      </g>\r\n     </g>\r\n    </g>\r\n    <g id=\"xtick_5\">\r\n     <g id=\"line2d_11\">\r\n      <g>\r\n       <use style=\"stroke:#000000;stroke-width:0.8;\" x=\"237.25483\" xlink:href=\"#m7c0f074fd7\" y=\"224.64\"/>\r\n      </g>\r\n     </g>\r\n     <g id=\"text_11\">\r\n      <!-- 2 -->\r\n      <g transform=\"translate(234.07358 239.238438)scale(0.1 -0.1)\">\r\n       <use xlink:href=\"#DejaVuSans-50\"/>\r\n      </g>\r\n     </g>\r\n    </g>\r\n   </g>\r\n   <g id=\"matplotlib.axis_4\">\r\n    <g id=\"ytick_7\">\r\n     <g id=\"line2d_12\">\r\n      <g>\r\n       <use style=\"stroke:#000000;stroke-width:0.8;\" x=\"145.089706\" xlink:href=\"#m6e2bdd3f6d\" y=\"212.867246\"/>\r\n      </g>\r\n     </g>\r\n     <g id=\"text_12\">\r\n      <!-- −1.5 -->\r\n      <defs>\r\n       <path d=\"M 10.59375 35.5 \r\nL 73.1875 35.5 \r\nL 73.1875 27.203125 \r\nL 10.59375 27.203125 \r\nz\r\n\" id=\"DejaVuSans-8722\"/>\r\n       <path d=\"M 10.796875 72.90625 \r\nL 49.515625 72.90625 \r\nL 49.515625 64.59375 \r\nL 19.828125 64.59375 \r\nL 19.828125 46.734375 \r\nQ 21.96875 47.46875 24.109375 47.828125 \r\nQ 26.265625 48.1875 28.421875 48.1875 \r\nQ 40.625 48.1875 47.75 41.5 \r\nQ 54.890625 34.8125 54.890625 23.390625 \r\nQ 54.890625 11.625 47.5625 5.09375 \r\nQ 40.234375 -1.421875 26.90625 -1.421875 \r\nQ 22.3125 -1.421875 17.546875 -0.640625 \r\nQ 12.796875 0.140625 7.71875 1.703125 \r\nL 7.71875 11.625 \r\nQ 12.109375 9.234375 16.796875 8.0625 \r\nQ 21.484375 6.890625 26.703125 6.890625 \r\nQ 35.15625 6.890625 40.078125 11.328125 \r\nQ 45.015625 15.765625 45.015625 23.390625 \r\nQ 45.015625 31 40.078125 35.4375 \r\nQ 35.15625 39.890625 26.703125 39.890625 \r\nQ 22.75 39.890625 18.8125 39.015625 \r\nQ 14.890625 38.140625 10.796875 36.28125 \r\nz\r\n\" id=\"DejaVuSans-53\"/>\r\n      </defs>\r\n      <g transform=\"translate(113.806893 216.666465)scale(0.1 -0.1)\">\r\n       <use xlink:href=\"#DejaVuSans-8722\"/>\r\n       <use x=\"83.789062\" xlink:href=\"#DejaVuSans-49\"/>\r\n       <use x=\"147.412109\" xlink:href=\"#DejaVuSans-46\"/>\r\n       <use x=\"179.199219\" xlink:href=\"#DejaVuSans-53\"/>\r\n      </g>\r\n     </g>\r\n    </g>\r\n    <g id=\"ytick_8\">\r\n     <g id=\"line2d_13\">\r\n      <g>\r\n       <use style=\"stroke:#000000;stroke-width:0.8;\" x=\"145.089706\" xlink:href=\"#m6e2bdd3f6d\" y=\"174.033844\"/>\r\n      </g>\r\n     </g>\r\n     <g id=\"text_13\">\r\n      <!-- −1.0 -->\r\n      <g transform=\"translate(113.806893 177.833063)scale(0.1 -0.1)\">\r\n       <use xlink:href=\"#DejaVuSans-8722\"/>\r\n       <use x=\"83.789062\" xlink:href=\"#DejaVuSans-49\"/>\r\n       <use x=\"147.412109\" xlink:href=\"#DejaVuSans-46\"/>\r\n       <use x=\"179.199219\" xlink:href=\"#DejaVuSans-48\"/>\r\n      </g>\r\n     </g>\r\n    </g>\r\n    <g id=\"ytick_9\">\r\n     <g id=\"line2d_14\">\r\n      <g>\r\n       <use style=\"stroke:#000000;stroke-width:0.8;\" x=\"145.089706\" xlink:href=\"#m6e2bdd3f6d\" y=\"135.200442\"/>\r\n      </g>\r\n     </g>\r\n     <g id=\"text_14\">\r\n      <!-- −0.5 -->\r\n      <g transform=\"translate(113.806893 138.999661)scale(0.1 -0.1)\">\r\n       <use xlink:href=\"#DejaVuSans-8722\"/>\r\n       <use x=\"83.789062\" xlink:href=\"#DejaVuSans-48\"/>\r\n       <use x=\"147.412109\" xlink:href=\"#DejaVuSans-46\"/>\r\n       <use x=\"179.199219\" xlink:href=\"#DejaVuSans-53\"/>\r\n      </g>\r\n     </g>\r\n    </g>\r\n    <g id=\"ytick_10\">\r\n     <g id=\"line2d_15\">\r\n      <g>\r\n       <use style=\"stroke:#000000;stroke-width:0.8;\" x=\"145.089706\" xlink:href=\"#m6e2bdd3f6d\" y=\"96.36704\"/>\r\n      </g>\r\n     </g>\r\n     <g id=\"text_15\">\r\n      <!-- 0.0 -->\r\n      <g transform=\"translate(122.186581 100.166258)scale(0.1 -0.1)\">\r\n       <use xlink:href=\"#DejaVuSans-48\"/>\r\n       <use x=\"63.623047\" xlink:href=\"#DejaVuSans-46\"/>\r\n       <use x=\"95.410156\" xlink:href=\"#DejaVuSans-48\"/>\r\n      </g>\r\n     </g>\r\n    </g>\r\n    <g id=\"ytick_11\">\r\n     <g id=\"line2d_16\">\r\n      <g>\r\n       <use style=\"stroke:#000000;stroke-width:0.8;\" x=\"145.089706\" xlink:href=\"#m6e2bdd3f6d\" y=\"57.533637\"/>\r\n      </g>\r\n     </g>\r\n     <g id=\"text_16\">\r\n      <!-- 0.5 -->\r\n      <g transform=\"translate(122.186581 61.332856)scale(0.1 -0.1)\">\r\n       <use xlink:href=\"#DejaVuSans-48\"/>\r\n       <use x=\"63.623047\" xlink:href=\"#DejaVuSans-46\"/>\r\n       <use x=\"95.410156\" xlink:href=\"#DejaVuSans-53\"/>\r\n      </g>\r\n     </g>\r\n    </g>\r\n    <g id=\"ytick_12\">\r\n     <g id=\"line2d_17\">\r\n      <g>\r\n       <use style=\"stroke:#000000;stroke-width:0.8;\" x=\"145.089706\" xlink:href=\"#m6e2bdd3f6d\" y=\"18.700235\"/>\r\n      </g>\r\n     </g>\r\n     <g id=\"text_17\">\r\n      <!-- 1.0 -->\r\n      <g transform=\"translate(122.186581 22.499454)scale(0.1 -0.1)\">\r\n       <use xlink:href=\"#DejaVuSans-49\"/>\r\n       <use x=\"63.623047\" xlink:href=\"#DejaVuSans-46\"/>\r\n       <use x=\"95.410156\" xlink:href=\"#DejaVuSans-48\"/>\r\n      </g>\r\n     </g>\r\n    </g>\r\n   </g>\r\n   <g id=\"patch_8\">\r\n    <path d=\"M 145.089706 224.64 \r\nL 145.089706 7.2 \r\n\" style=\"fill:none;stroke:#000000;stroke-linecap:square;stroke-linejoin:miter;stroke-width:0.8;\"/>\r\n   </g>\r\n   <g id=\"patch_9\">\r\n    <path d=\"M 243.560294 224.64 \r\nL 243.560294 7.2 \r\n\" style=\"fill:none;stroke:#000000;stroke-linecap:square;stroke-linejoin:miter;stroke-width:0.8;\"/>\r\n   </g>\r\n   <g id=\"patch_10\">\r\n    <path d=\"M 145.089706 224.64 \r\nL 243.560294 224.64 \r\n\" style=\"fill:none;stroke:#000000;stroke-linecap:square;stroke-linejoin:miter;stroke-width:0.8;\"/>\r\n   </g>\r\n   <g id=\"patch_11\">\r\n    <path d=\"M 145.089706 7.2 \r\nL 243.560294 7.2 \r\n\" style=\"fill:none;stroke:#000000;stroke-linecap:square;stroke-linejoin:miter;stroke-width:0.8;\"/>\r\n   </g>\r\n  </g>\r\n  <g id=\"axes_3\">\r\n   <g id=\"patch_12\">\r\n    <path d=\"M 263.254412 224.64 \r\nL 361.725 224.64 \r\nL 361.725 7.2 \r\nL 263.254412 7.2 \r\nz\r\n\" style=\"fill:#ffffff;\"/>\r\n   </g>\r\n   <g id=\"PathCollection_3\">\r\n    <g clip-path=\"url(#pd7273307d0)\">\r\n     <use style=\"fill:#1f77b4;stroke:#1f77b4;\" x=\"268.516549\" xlink:href=\"#m80d2c6dfc2\" y=\"213.739225\"/>\r\n     <use style=\"fill:#1f77b4;stroke:#1f77b4;\" x=\"290.503128\" xlink:href=\"#m80d2c6dfc2\" y=\"115.92\"/>\r\n     <use style=\"fill:#1f77b4;stroke:#1f77b4;\" x=\"321.284337\" xlink:href=\"#m80d2c6dfc2\" y=\"194.17538\"/>\r\n     <use style=\"fill:#1f77b4;stroke:#1f77b4;\" x=\"303.695075\" xlink:href=\"#m80d2c6dfc2\" y=\"37.66462\"/>\r\n     <use style=\"fill:#1f77b4;stroke:#1f77b4;\" x=\"277.311181\" xlink:href=\"#m80d2c6dfc2\" y=\"18.100775\"/>\r\n     <use style=\"fill:#1f77b4;stroke:#1f77b4;\" x=\"294.900443\" xlink:href=\"#m80d2c6dfc2\" y=\"194.17538\"/>\r\n     <use style=\"fill:#1f77b4;stroke:#1f77b4;\" x=\"299.297759\" xlink:href=\"#m80d2c6dfc2\" y=\"57.228465\"/>\r\n     <use style=\"fill:#1f77b4;stroke:#1f77b4;\" x=\"325.681653\" xlink:href=\"#m80d2c6dfc2\" y=\"76.79231\"/>\r\n     <use style=\"fill:#1f77b4;stroke:#1f77b4;\" x=\"272.913865\" xlink:href=\"#m80d2c6dfc2\" y=\"37.66462\"/>\r\n     <use style=\"fill:#1f77b4;stroke:#1f77b4;\" x=\"356.462863\" xlink:href=\"#m80d2c6dfc2\" y=\"18.100775\"/>\r\n    </g>\r\n   </g>\r\n   <g id=\"matplotlib.axis_5\">\r\n    <g id=\"xtick_6\">\r\n     <g id=\"line2d_18\">\r\n      <g>\r\n       <use style=\"stroke:#000000;stroke-width:0.8;\" x=\"301.056685\" xlink:href=\"#m7c0f074fd7\" y=\"224.64\"/>\r\n      </g>\r\n     </g>\r\n     <g id=\"text_18\">\r\n      <!-- 0 -->\r\n      <g transform=\"translate(297.875435 239.238438)scale(0.1 -0.1)\">\r\n       <use xlink:href=\"#DejaVuSans-48\"/>\r\n      </g>\r\n     </g>\r\n    </g>\r\n    <g id=\"xtick_7\">\r\n     <g id=\"line2d_19\">\r\n      <g>\r\n       <use style=\"stroke:#000000;stroke-width:0.8;\" x=\"352.668509\" xlink:href=\"#m7c0f074fd7\" y=\"224.64\"/>\r\n      </g>\r\n     </g>\r\n     <g id=\"text_19\">\r\n      <!-- 2 -->\r\n      <g transform=\"translate(349.487259 239.238438)scale(0.1 -0.1)\">\r\n       <use xlink:href=\"#DejaVuSans-50\"/>\r\n      </g>\r\n     </g>\r\n    </g>\r\n   </g>\r\n   <g id=\"matplotlib.axis_6\">\r\n    <g id=\"ytick_13\">\r\n     <g id=\"line2d_20\">\r\n      <g>\r\n       <use style=\"stroke:#000000;stroke-width:0.8;\" x=\"263.254412\" xlink:href=\"#m6e2bdd3f6d\" y=\"206.93948\"/>\r\n      </g>\r\n     </g>\r\n     <g id=\"text_20\">\r\n      <!-- −1.5 -->\r\n      <g transform=\"translate(231.971599 210.738699)scale(0.1 -0.1)\">\r\n       <use xlink:href=\"#DejaVuSans-8722\"/>\r\n       <use x=\"83.789062\" xlink:href=\"#DejaVuSans-49\"/>\r\n       <use x=\"147.412109\" xlink:href=\"#DejaVuSans-46\"/>\r\n       <use x=\"179.199219\" xlink:href=\"#DejaVuSans-53\"/>\r\n      </g>\r\n     </g>\r\n    </g>\r\n    <g id=\"ytick_14\">\r\n     <g id=\"line2d_21\">\r\n      <g>\r\n       <use style=\"stroke:#000000;stroke-width:0.8;\" x=\"263.254412\" xlink:href=\"#m6e2bdd3f6d\" y=\"170.078372\"/>\r\n      </g>\r\n     </g>\r\n     <g id=\"text_21\">\r\n      <!-- −1.0 -->\r\n      <g transform=\"translate(231.971599 173.87759)scale(0.1 -0.1)\">\r\n       <use xlink:href=\"#DejaVuSans-8722\"/>\r\n       <use x=\"83.789062\" xlink:href=\"#DejaVuSans-49\"/>\r\n       <use x=\"147.412109\" xlink:href=\"#DejaVuSans-46\"/>\r\n       <use x=\"179.199219\" xlink:href=\"#DejaVuSans-48\"/>\r\n      </g>\r\n     </g>\r\n    </g>\r\n    <g id=\"ytick_15\">\r\n     <g id=\"line2d_22\">\r\n      <g>\r\n       <use style=\"stroke:#000000;stroke-width:0.8;\" x=\"263.254412\" xlink:href=\"#m6e2bdd3f6d\" y=\"133.217263\"/>\r\n      </g>\r\n     </g>\r\n     <g id=\"text_22\">\r\n      <!-- −0.5 -->\r\n      <g transform=\"translate(231.971599 137.016482)scale(0.1 -0.1)\">\r\n       <use xlink:href=\"#DejaVuSans-8722\"/>\r\n       <use x=\"83.789062\" xlink:href=\"#DejaVuSans-48\"/>\r\n       <use x=\"147.412109\" xlink:href=\"#DejaVuSans-46\"/>\r\n       <use x=\"179.199219\" xlink:href=\"#DejaVuSans-53\"/>\r\n      </g>\r\n     </g>\r\n    </g>\r\n    <g id=\"ytick_16\">\r\n     <g id=\"line2d_23\">\r\n      <g>\r\n       <use style=\"stroke:#000000;stroke-width:0.8;\" x=\"263.254412\" xlink:href=\"#m6e2bdd3f6d\" y=\"96.356155\"/>\r\n      </g>\r\n     </g>\r\n     <g id=\"text_23\">\r\n      <!-- 0.0 -->\r\n      <g transform=\"translate(240.351287 100.155374)scale(0.1 -0.1)\">\r\n       <use xlink:href=\"#DejaVuSans-48\"/>\r\n       <use x=\"63.623047\" xlink:href=\"#DejaVuSans-46\"/>\r\n       <use x=\"95.410156\" xlink:href=\"#DejaVuSans-48\"/>\r\n      </g>\r\n     </g>\r\n    </g>\r\n    <g id=\"ytick_17\">\r\n     <g id=\"line2d_24\">\r\n      <g>\r\n       <use style=\"stroke:#000000;stroke-width:0.8;\" x=\"263.254412\" xlink:href=\"#m6e2bdd3f6d\" y=\"59.495047\"/>\r\n      </g>\r\n     </g>\r\n     <g id=\"text_24\">\r\n      <!-- 0.5 -->\r\n      <g transform=\"translate(240.351287 63.294265)scale(0.1 -0.1)\">\r\n       <use xlink:href=\"#DejaVuSans-48\"/>\r\n       <use x=\"63.623047\" xlink:href=\"#DejaVuSans-46\"/>\r\n       <use x=\"95.410156\" xlink:href=\"#DejaVuSans-53\"/>\r\n      </g>\r\n     </g>\r\n    </g>\r\n    <g id=\"ytick_18\">\r\n     <g id=\"line2d_25\">\r\n      <g>\r\n       <use style=\"stroke:#000000;stroke-width:0.8;\" x=\"263.254412\" xlink:href=\"#m6e2bdd3f6d\" y=\"22.633938\"/>\r\n      </g>\r\n     </g>\r\n     <g id=\"text_25\">\r\n      <!-- 1.0 -->\r\n      <g transform=\"translate(240.351287 26.433157)scale(0.1 -0.1)\">\r\n       <use xlink:href=\"#DejaVuSans-49\"/>\r\n       <use x=\"63.623047\" xlink:href=\"#DejaVuSans-46\"/>\r\n       <use x=\"95.410156\" xlink:href=\"#DejaVuSans-48\"/>\r\n      </g>\r\n     </g>\r\n    </g>\r\n   </g>\r\n   <g id=\"patch_13\">\r\n    <path d=\"M 263.254412 224.64 \r\nL 263.254412 7.2 \r\n\" style=\"fill:none;stroke:#000000;stroke-linecap:square;stroke-linejoin:miter;stroke-width:0.8;\"/>\r\n   </g>\r\n   <g id=\"patch_14\">\r\n    <path d=\"M 361.725 224.64 \r\nL 361.725 7.2 \r\n\" style=\"fill:none;stroke:#000000;stroke-linecap:square;stroke-linejoin:miter;stroke-width:0.8;\"/>\r\n   </g>\r\n   <g id=\"patch_15\">\r\n    <path d=\"M 263.254412 224.64 \r\nL 361.725 224.64 \r\n\" style=\"fill:none;stroke:#000000;stroke-linecap:square;stroke-linejoin:miter;stroke-width:0.8;\"/>\r\n   </g>\r\n   <g id=\"patch_16\">\r\n    <path d=\"M 263.254412 7.2 \r\nL 361.725 7.2 \r\n\" style=\"fill:none;stroke:#000000;stroke-linecap:square;stroke-linejoin:miter;stroke-width:0.8;\"/>\r\n   </g>\r\n  </g>\r\n </g>\r\n <defs>\r\n  <clipPath id=\"p4bd5ce9d84\">\r\n   <rect height=\"217.44\" width=\"98.470588\" x=\"26.925\" y=\"7.2\"/>\r\n  </clipPath>\r\n  <clipPath id=\"p05c5a068a3\">\r\n   <rect height=\"217.44\" width=\"98.470588\" x=\"145.089706\" y=\"7.2\"/>\r\n  </clipPath>\r\n  <clipPath id=\"pd7273307d0\">\r\n   <rect height=\"217.44\" width=\"98.470588\" x=\"263.254412\" y=\"7.2\"/>\r\n  </clipPath>\r\n </defs>\r\n</svg>\r\n",
      "text/plain": "<Figure size 432x288 with 3 Axes>"
     },
     "metadata": {
      "needs_background": "light"
     },
     "output_type": "display_data"
    }
   ],
   "source": [
    "plt.subplot(131)\n",
    "plt.scatter(df['TB(m)'], df['BB(kg)'])\n",
    "plt.subplot(132)\n",
    "plt.scatter(df['Z TB PD'], df['Z BB PD'])\n",
    "plt.subplot(133)\n",
    "plt.scatter(df['Z TB NP'], df['Z BB NP'])"
   ]
  },
  {
   "cell_type": "markdown",
   "execution_count": 1,
   "metadata": {},
   "outputs": [
    {
     "ename": "SyntaxError",
     "evalue": "invalid syntax (<ipython-input-1-fcc122d2cdec>, line 1)",
     "output_type": "error",
     "traceback": [
      "\u001b[1;36m  File \u001b[1;32m\"<ipython-input-1-fcc122d2cdec>\"\u001b[1;36m, line \u001b[1;32m1\u001b[0m\n\u001b[1;33m    <hr>\u001b[0m\n\u001b[1;37m    ^\u001b[0m\n\u001b[1;31mSyntaxError\u001b[0m\u001b[1;31m:\u001b[0m invalid syntax\n"
     ]
    }
   ],
   "source": [
    "<hr>\n",
    "\n",
    "# Standardisasi menurut SKLEARN"
   ]
  },
  {
   "cell_type": "code",
   "execution_count": 23,
   "metadata": {},
   "outputs": [],
   "source": [
    "from sklearn.preprocessing import StandardScaler"
   ]
  },
  {
   "cell_type": "code",
   "execution_count": 26,
   "metadata": {},
   "outputs": [
    {
     "data": {
      "text/plain": "array([[-1.26095663, -1.59223468],\n       [-0.40895891, -0.26537245],\n       [ 0.7838379 , -1.32686223],\n       [ 0.10223973,  0.79611734],\n       [-0.92015754,  1.06148978],\n       [-0.23855936, -1.32686223],\n       [-0.06815982,  0.53074489],\n       [ 0.95423745,  0.26537245],\n       [-1.09055708,  0.79611734],\n       [ 2.14703426,  1.06148978]])"
     },
     "execution_count": 26,
     "metadata": {},
     "output_type": "execute_result"
    }
   ],
   "source": [
    "scaler = StandardScaler()\n",
    "scaler.fit(df[['TB(m)', 'BB(kg)']])\n",
    "z = scaler.transform(df[['TB(m)', 'BB(kg)']])\n",
    "z"
   ]
  },
  {
   "cell_type": "code",
   "execution_count": 27,
   "metadata": {},
   "outputs": [
    {
     "data": {
      "text/html": "<div>\n<style scoped>\n    .dataframe tbody tr th:only-of-type {\n        vertical-align: middle;\n    }\n\n    .dataframe tbody tr th {\n        vertical-align: top;\n    }\n\n    .dataframe thead th {\n        text-align: right;\n    }\n</style>\n<table border=\"1\" class=\"dataframe\">\n  <thead>\n    <tr style=\"text-align: right;\">\n      <th></th>\n      <th>TB(m)</th>\n      <th>BB(kg)</th>\n      <th>Z TB PD</th>\n      <th>Z BB PD</th>\n      <th>Z TB NP</th>\n      <th>Z BB NP</th>\n      <th>Z TB SKL</th>\n      <th>Z BB SKL</th>\n    </tr>\n  </thead>\n  <tbody>\n    <tr>\n      <td>0</td>\n      <td>0.8</td>\n      <td>20</td>\n      <td>-1.19625</td>\n      <td>-1.51053</td>\n      <td>-1.26096</td>\n      <td>-1.59223</td>\n      <td>-1.260957</td>\n      <td>-1.592235</td>\n    </tr>\n    <tr>\n      <td>1</td>\n      <td>0.85</td>\n      <td>25</td>\n      <td>-0.387972</td>\n      <td>-0.251754</td>\n      <td>-0.408959</td>\n      <td>-0.265372</td>\n      <td>-0.408959</td>\n      <td>-0.265372</td>\n    </tr>\n    <tr>\n      <td>2</td>\n      <td>0.92</td>\n      <td>21</td>\n      <td>0.743614</td>\n      <td>-1.25877</td>\n      <td>0.783838</td>\n      <td>-1.32686</td>\n      <td>0.783838</td>\n      <td>-1.326862</td>\n    </tr>\n    <tr>\n      <td>3</td>\n      <td>0.88</td>\n      <td>29</td>\n      <td>0.0969931</td>\n      <td>0.755263</td>\n      <td>0.10224</td>\n      <td>0.796117</td>\n      <td>0.102240</td>\n      <td>0.796117</td>\n    </tr>\n    <tr>\n      <td>4</td>\n      <td>0.82</td>\n      <td>30</td>\n      <td>-0.872938</td>\n      <td>1.00702</td>\n      <td>-0.920158</td>\n      <td>1.06149</td>\n      <td>-0.920158</td>\n      <td>1.061490</td>\n    </tr>\n    <tr>\n      <td>5</td>\n      <td>0.86</td>\n      <td>21</td>\n      <td>-0.226317</td>\n      <td>-1.25877</td>\n      <td>-0.238559</td>\n      <td>-1.32686</td>\n      <td>-0.238559</td>\n      <td>-1.326862</td>\n    </tr>\n    <tr>\n      <td>6</td>\n      <td>0.87</td>\n      <td>28</td>\n      <td>-0.0646621</td>\n      <td>0.503509</td>\n      <td>-0.0681598</td>\n      <td>0.530745</td>\n      <td>-0.068160</td>\n      <td>0.530745</td>\n    </tr>\n    <tr>\n      <td>7</td>\n      <td>0.93</td>\n      <td>27</td>\n      <td>0.905269</td>\n      <td>0.251754</td>\n      <td>0.954237</td>\n      <td>0.265372</td>\n      <td>0.954237</td>\n      <td>0.265372</td>\n    </tr>\n    <tr>\n      <td>8</td>\n      <td>0.81</td>\n      <td>29</td>\n      <td>-1.03459</td>\n      <td>0.755263</td>\n      <td>-1.09056</td>\n      <td>0.796117</td>\n      <td>-1.090557</td>\n      <td>0.796117</td>\n    </tr>\n    <tr>\n      <td>9</td>\n      <td>1</td>\n      <td>30</td>\n      <td>2.03686</td>\n      <td>1.00702</td>\n      <td>2.14703</td>\n      <td>1.06149</td>\n      <td>2.147034</td>\n      <td>1.061490</td>\n    </tr>\n  </tbody>\n</table>\n</div>",
      "text/plain": "  TB(m) BB(kg)    Z TB PD   Z BB PD    Z TB NP   Z BB NP  Z TB SKL  Z BB SKL\n0   0.8     20   -1.19625  -1.51053   -1.26096  -1.59223 -1.260957 -1.592235\n1  0.85     25  -0.387972 -0.251754  -0.408959 -0.265372 -0.408959 -0.265372\n2  0.92     21   0.743614  -1.25877   0.783838  -1.32686  0.783838 -1.326862\n3  0.88     29  0.0969931  0.755263    0.10224  0.796117  0.102240  0.796117\n4  0.82     30  -0.872938   1.00702  -0.920158   1.06149 -0.920158  1.061490\n5  0.86     21  -0.226317  -1.25877  -0.238559  -1.32686 -0.238559 -1.326862\n6  0.87     28 -0.0646621  0.503509 -0.0681598  0.530745 -0.068160  0.530745\n7  0.93     27   0.905269  0.251754   0.954237  0.265372  0.954237  0.265372\n8  0.81     29   -1.03459  0.755263   -1.09056  0.796117 -1.090557  0.796117\n9     1     30    2.03686   1.00702    2.14703   1.06149  2.147034  1.061490"
     },
     "execution_count": 27,
     "metadata": {},
     "output_type": "execute_result"
    }
   ],
   "source": [
    "df['Z TB SKL'] = z[:,0]\n",
    "df['Z BB SKL'] = z[:,1]\n",
    "df"
   ]
  },
  {
   "cell_type": "code",
   "execution_count": 33,
   "metadata": {},
   "outputs": [
    {
     "name": "stdout",
     "output_type": "stream",
     "text": "[0.8  0.85 0.92 0.88 0.82 0.86 0.87 0.93 0.81 1.  ]\n[20. 25. 21. 29. 30. 21. 28. 27. 29. 30.]\n"
    }
   ],
   "source": [
    "# inverse transform\n",
    "inv = scaler.inverse_transform(df[['Z TB SKL', 'Z BB SKL']])\n",
    "print(inv[:,0])\n",
    "print(inv[:,1])"
   ]
  },
  {
   "cell_type": "code",
   "execution_count": null,
   "metadata": {},
   "outputs": [],
   "source": []
  }
 ]
}
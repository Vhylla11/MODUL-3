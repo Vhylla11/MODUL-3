{
 "cells": [
  {
   "cell_type": "markdown",
   "metadata": {},
   "source": [
    "# MULTIVARIATE LINEAR REGRESSION\n",
    "\n",
    "- Simple linear regression multiple variable\n",
    "\n",
    "$$\\hat{y}= m_0 x_0 + m_1 x_1 + m_3 x_3 + ... + c$$"
   ]
  },
  {
   "cell_type": "code",
   "execution_count": 1,
   "metadata": {},
   "outputs": [],
   "source": [
    "import pandas as pd\n",
    "import numpy as np\n",
    "import matplotlib.pyplot as plt\n",
    "from sklearn.linear_model import LinearRegression"
   ]
  },
  {
   "cell_type": "code",
   "execution_count": 9,
   "metadata": {},
   "outputs": [
    {
     "data": {
      "text/html": [
       "<div>\n",
       "<style scoped>\n",
       "    .dataframe tbody tr th:only-of-type {\n",
       "        vertical-align: middle;\n",
       "    }\n",
       "\n",
       "    .dataframe tbody tr th {\n",
       "        vertical-align: top;\n",
       "    }\n",
       "\n",
       "    .dataframe thead th {\n",
       "        text-align: right;\n",
       "    }\n",
       "</style>\n",
       "<table border=\"1\" class=\"dataframe\">\n",
       "  <thead>\n",
       "    <tr style=\"text-align: right;\">\n",
       "      <th></th>\n",
       "      <th>mesin x1</th>\n",
       "      <th>usia x2</th>\n",
       "      <th>km x3</th>\n",
       "      <th>harga y</th>\n",
       "    </tr>\n",
       "  </thead>\n",
       "  <tbody>\n",
       "    <tr>\n",
       "      <td>0</td>\n",
       "      <td>112</td>\n",
       "      <td>5</td>\n",
       "      <td>8</td>\n",
       "      <td>100</td>\n",
       "    </tr>\n",
       "    <tr>\n",
       "      <td>1</td>\n",
       "      <td>250</td>\n",
       "      <td>3</td>\n",
       "      <td>7</td>\n",
       "      <td>200</td>\n",
       "    </tr>\n",
       "    <tr>\n",
       "      <td>2</td>\n",
       "      <td>360</td>\n",
       "      <td>3</td>\n",
       "      <td>7</td>\n",
       "      <td>300</td>\n",
       "    </tr>\n",
       "    <tr>\n",
       "      <td>3</td>\n",
       "      <td>450</td>\n",
       "      <td>1</td>\n",
       "      <td>5</td>\n",
       "      <td>400</td>\n",
       "    </tr>\n",
       "    <tr>\n",
       "      <td>4</td>\n",
       "      <td>600</td>\n",
       "      <td>1</td>\n",
       "      <td>4</td>\n",
       "      <td>500</td>\n",
       "    </tr>\n",
       "  </tbody>\n",
       "</table>\n",
       "</div>"
      ],
      "text/plain": [
       "   mesin x1  usia x2  km x3  harga y\n",
       "0       112        5      8      100\n",
       "1       250        3      7      200\n",
       "2       360        3      7      300\n",
       "3       450        1      5      400\n",
       "4       600        1      4      500"
      ]
     },
     "execution_count": 9,
     "metadata": {},
     "output_type": "execute_result"
    }
   ],
   "source": [
    "data = {\n",
    "    'mesin x1' : [112,250,360,450,600],\n",
    "    'usia x2' : [5,3,3,1,1],\n",
    "    'km x3' : [8,7,7,5,4],\n",
    "    'harga y' : [100,200,300,400,500]\n",
    "}\n",
    "df = pd.DataFrame(data)\n",
    "df"
   ]
  },
  {
   "cell_type": "markdown",
   "metadata": {},
   "source": [
    "# Korelasi :)"
   ]
  },
  {
   "cell_type": "code",
   "execution_count": 6,
   "metadata": {},
   "outputs": [
    {
     "data": {
      "text/html": [
       "<div>\n",
       "<style scoped>\n",
       "    .dataframe tbody tr th:only-of-type {\n",
       "        vertical-align: middle;\n",
       "    }\n",
       "\n",
       "    .dataframe tbody tr th {\n",
       "        vertical-align: top;\n",
       "    }\n",
       "\n",
       "    .dataframe thead th {\n",
       "        text-align: right;\n",
       "    }\n",
       "</style>\n",
       "<table border=\"1\" class=\"dataframe\">\n",
       "  <thead>\n",
       "    <tr style=\"text-align: right;\">\n",
       "      <th></th>\n",
       "      <th>mesin x1</th>\n",
       "      <th>usia x2</th>\n",
       "      <th>km x3</th>\n",
       "      <th>harga y</th>\n",
       "    </tr>\n",
       "  </thead>\n",
       "  <tbody>\n",
       "    <tr>\n",
       "      <td>mesin x1</td>\n",
       "      <td>1.000000</td>\n",
       "      <td>-0.934973</td>\n",
       "      <td>-0.954740</td>\n",
       "      <td>0.996942</td>\n",
       "    </tr>\n",
       "    <tr>\n",
       "      <td>usia x2</td>\n",
       "      <td>-0.934973</td>\n",
       "      <td>1.000000</td>\n",
       "      <td>0.945611</td>\n",
       "      <td>-0.944911</td>\n",
       "    </tr>\n",
       "    <tr>\n",
       "      <td>km x3</td>\n",
       "      <td>-0.954740</td>\n",
       "      <td>0.945611</td>\n",
       "      <td>1.000000</td>\n",
       "      <td>-0.962250</td>\n",
       "    </tr>\n",
       "    <tr>\n",
       "      <td>harga y</td>\n",
       "      <td>0.996942</td>\n",
       "      <td>-0.944911</td>\n",
       "      <td>-0.962250</td>\n",
       "      <td>1.000000</td>\n",
       "    </tr>\n",
       "  </tbody>\n",
       "</table>\n",
       "</div>"
      ],
      "text/plain": [
       "          mesin x1   usia x2     km x3   harga y\n",
       "mesin x1  1.000000 -0.934973 -0.954740  0.996942\n",
       "usia x2  -0.934973  1.000000  0.945611 -0.944911\n",
       "km x3    -0.954740  0.945611  1.000000 -0.962250\n",
       " harga y  0.996942 -0.944911 -0.962250  1.000000"
      ]
     },
     "execution_count": 6,
     "metadata": {},
     "output_type": "execute_result"
    }
   ],
   "source": [
    "df.corr()"
   ]
  },
  {
   "cell_type": "markdown",
   "metadata": {},
   "source": [
    "# Linear Regression"
   ]
  },
  {
   "cell_type": "code",
   "execution_count": 10,
   "metadata": {},
   "outputs": [
    {
     "data": {
      "text/plain": [
       "LinearRegression(copy_X=True, fit_intercept=True, n_jobs=None, normalize=False)"
      ]
     },
     "execution_count": 10,
     "metadata": {},
     "output_type": "execute_result"
    }
   ],
   "source": [
    "model = LinearRegression()\n",
    "model.fit (df[['mesin x1','usia x2','km x3']],df['harga y'])"
   ]
  },
  {
   "cell_type": "markdown",
   "metadata": {},
   "source": [
    "# Hitung Gradient dan Intercept"
   ]
  },
  {
   "cell_type": "code",
   "execution_count": 24,
   "metadata": {},
   "outputs": [
    {
     "name": "stdout",
     "output_type": "stream",
     "text": [
      "[ 0.72827725 -6.57960824 -7.33299849]\n",
      "104.0\n"
     ]
    }
   ],
   "source": [
    "m=(model.coef_)\n",
    "c=(model.intercept_)\n",
    "print(m)\n",
    "print(round (c))"
   ]
  },
  {
   "cell_type": "markdown",
   "metadata": {},
   "source": [
    " # Plot"
   ]
  },
  {
   "cell_type": "code",
   "execution_count": 13,
   "metadata": {},
   "outputs": [
    {
     "data": {
      "text/plain": [
       "[<matplotlib.lines.Line2D at 0xbe65288>]"
      ]
     },
     "execution_count": 13,
     "metadata": {},
     "output_type": "execute_result"
    },
    {
     "data": {
      "image/png": "[encoded data removed]",
      "text/plain": [
       "<Figure size 432x144 with 3 Axes>"
      ]
     },
     "metadata": {
      "needs_background": "light"
     },
     "output_type": "display_data"
    }
   ],
   "source": [
    "plt.figure (figsize=(6,2))\n",
    "plt.subplot(131)\n",
    "plt.plot(df['mesin x1'], df ['harga y'], 'r-o')\n",
    "plt.subplot(132)\n",
    "plt.plot(df['usia x2'], df ['harga y'], 'g-o')\n",
    "plt.subplot(133)\n",
    "plt.plot(df['km x3'], df ['harga y'], 'b-o')\n",
    "\n"
   ]
  },
  {
   "cell_type": "markdown",
   "metadata": {},
   "source": [
    "### ANALISIS : Berdasarkan plot diatas terdapat 2 var X yang korelasi negatif dan kuat ( usia dan km ) sedangkan pada variabel mesin memiliki korelasi yang positif dan kuat"
   ]
  },
  {
   "cell_type": "markdown",
   "metadata": {},
   "source": [
    "# Prediksi Harga Terbaik untuk semua data / Var X"
   ]
  },
  {
   "cell_type": "code",
   "execution_count": 14,
   "metadata": {},
   "outputs": [
    {
     "data": {
      "text/plain": [
       "94.47513812154699"
      ]
     },
     "execution_count": 14,
     "metadata": {},
     "output_type": "execute_result"
    }
   ],
   "source": [
    "# mesin , usia, km\n",
    "# data 1\n",
    "model.predict ([[112,5,8]])[0]"
   ]
  },
  {
   "cell_type": "code",
   "execution_count": null,
   "metadata": {},
   "outputs": [],
   "source": []
  },
  {
   "cell_type": "code",
   "execution_count": 15,
   "metadata": {},
   "outputs": [
    {
     "data": {
      "text/html": [
       "<div>\n",
       "<style scoped>\n",
       "    .dataframe tbody tr th:only-of-type {\n",
       "        vertical-align: middle;\n",
       "    }\n",
       "\n",
       "    .dataframe tbody tr th {\n",
       "        vertical-align: top;\n",
       "    }\n",
       "\n",
       "    .dataframe thead th {\n",
       "        text-align: right;\n",
       "    }\n",
       "</style>\n",
       "<table border=\"1\" class=\"dataframe\">\n",
       "  <thead>\n",
       "    <tr style=\"text-align: right;\">\n",
       "      <th></th>\n",
       "      <th>mesin x1</th>\n",
       "      <th>usia x2</th>\n",
       "      <th>km x3</th>\n",
       "      <th>harga y</th>\n",
       "      <th>y_pred</th>\n",
       "    </tr>\n",
       "  </thead>\n",
       "  <tbody>\n",
       "    <tr>\n",
       "      <td>0</td>\n",
       "      <td>112</td>\n",
       "      <td>5</td>\n",
       "      <td>8</td>\n",
       "      <td>100</td>\n",
       "      <td>94.475138</td>\n",
       "    </tr>\n",
       "    <tr>\n",
       "      <td>1</td>\n",
       "      <td>250</td>\n",
       "      <td>3</td>\n",
       "      <td>7</td>\n",
       "      <td>200</td>\n",
       "      <td>215.469613</td>\n",
       "    </tr>\n",
       "    <tr>\n",
       "      <td>2</td>\n",
       "      <td>360</td>\n",
       "      <td>3</td>\n",
       "      <td>7</td>\n",
       "      <td>300</td>\n",
       "      <td>295.580110</td>\n",
       "    </tr>\n",
       "    <tr>\n",
       "      <td>3</td>\n",
       "      <td>450</td>\n",
       "      <td>1</td>\n",
       "      <td>5</td>\n",
       "      <td>400</td>\n",
       "      <td>388.950276</td>\n",
       "    </tr>\n",
       "    <tr>\n",
       "      <td>4</td>\n",
       "      <td>600</td>\n",
       "      <td>1</td>\n",
       "      <td>4</td>\n",
       "      <td>500</td>\n",
       "      <td>505.524862</td>\n",
       "    </tr>\n",
       "  </tbody>\n",
       "</table>\n",
       "</div>"
      ],
      "text/plain": [
       "   mesin x1  usia x2  km x3  harga y      y_pred\n",
       "0       112        5      8      100   94.475138\n",
       "1       250        3      7      200  215.469613\n",
       "2       360        3      7      300  295.580110\n",
       "3       450        1      5      400  388.950276\n",
       "4       600        1      4      500  505.524862"
      ]
     },
     "execution_count": 15,
     "metadata": {},
     "output_type": "execute_result"
    }
   ],
   "source": [
    "# semua data\n",
    "\n",
    "df['y_pred'] = model.predict (df[['mesin x1','usia x2','km x3']])\n",
    "df"
   ]
  },
  {
   "cell_type": "markdown",
   "metadata": {},
   "source": [
    "# Prediksi berdasarkan mesin x1, usia x2 , km x3\n"
   ]
  },
  {
   "cell_type": "code",
   "execution_count": 30,
   "metadata": {},
   "outputs": [
    {
     "data": {
      "text/html": [
       "<div>\n",
       "<style scoped>\n",
       "    .dataframe tbody tr th:only-of-type {\n",
       "        vertical-align: middle;\n",
       "    }\n",
       "\n",
       "    .dataframe tbody tr th {\n",
       "        vertical-align: top;\n",
       "    }\n",
       "\n",
       "    .dataframe thead th {\n",
       "        text-align: right;\n",
       "    }\n",
       "</style>\n",
       "<table border=\"1\" class=\"dataframe\">\n",
       "  <thead>\n",
       "    <tr style=\"text-align: right;\">\n",
       "      <th></th>\n",
       "      <th>mesin x1</th>\n",
       "      <th>usia x2</th>\n",
       "      <th>km x3</th>\n",
       "      <th>harga y</th>\n",
       "      <th>y_pred</th>\n",
       "      <th>y\" x1</th>\n",
       "      <th>y\" x2</th>\n",
       "      <th>y\" x3</th>\n",
       "    </tr>\n",
       "  </thead>\n",
       "  <tbody>\n",
       "    <tr>\n",
       "      <td>0</td>\n",
       "      <td>112</td>\n",
       "      <td>5</td>\n",
       "      <td>8</td>\n",
       "      <td>100</td>\n",
       "      <td>94.475138</td>\n",
       "      <td>186.037167</td>\n",
       "      <td>71.572074</td>\n",
       "      <td>45.806128</td>\n",
       "    </tr>\n",
       "    <tr>\n",
       "      <td>1</td>\n",
       "      <td>250</td>\n",
       "      <td>3</td>\n",
       "      <td>7</td>\n",
       "      <td>200</td>\n",
       "      <td>215.469613</td>\n",
       "      <td>286.539427</td>\n",
       "      <td>84.731291</td>\n",
       "      <td>53.139126</td>\n",
       "    </tr>\n",
       "    <tr>\n",
       "      <td>2</td>\n",
       "      <td>360</td>\n",
       "      <td>3</td>\n",
       "      <td>7</td>\n",
       "      <td>300</td>\n",
       "      <td>295.580110</td>\n",
       "      <td>366.649925</td>\n",
       "      <td>84.731291</td>\n",
       "      <td>53.139126</td>\n",
       "    </tr>\n",
       "    <tr>\n",
       "      <td>3</td>\n",
       "      <td>450</td>\n",
       "      <td>1</td>\n",
       "      <td>5</td>\n",
       "      <td>400</td>\n",
       "      <td>388.950276</td>\n",
       "      <td>432.194877</td>\n",
       "      <td>97.890507</td>\n",
       "      <td>67.805123</td>\n",
       "    </tr>\n",
       "    <tr>\n",
       "      <td>4</td>\n",
       "      <td>600</td>\n",
       "      <td>1</td>\n",
       "      <td>4</td>\n",
       "      <td>500</td>\n",
       "      <td>505.524862</td>\n",
       "      <td>541.436464</td>\n",
       "      <td>97.890507</td>\n",
       "      <td>75.138122</td>\n",
       "    </tr>\n",
       "  </tbody>\n",
       "</table>\n",
       "</div>"
      ],
      "text/plain": [
       "   mesin x1  usia x2  km x3  harga y      y_pred       y\" x1      y\" x2  \\\n",
       "0       112        5      8      100   94.475138  186.037167  71.572074   \n",
       "1       250        3      7      200  215.469613  286.539427  84.731291   \n",
       "2       360        3      7      300  295.580110  366.649925  84.731291   \n",
       "3       450        1      5      400  388.950276  432.194877  97.890507   \n",
       "4       600        1      4      500  505.524862  541.436464  97.890507   \n",
       "\n",
       "       y\" x3  \n",
       "0  45.806128  \n",
       "1  53.139126  \n",
       "2  53.139126  \n",
       "3  67.805123  \n",
       "4  75.138122  "
      ]
     },
     "execution_count": 30,
     "metadata": {},
     "output_type": "execute_result"
    }
   ],
   "source": [
    "df ['y\" x1'] = m[0] * df['mesin x1'] + c\n",
    "df ['y\" x2'] = m[1] * df['usia x2'] + c\n",
    "df ['y\" x3'] = m[2] * df['km x3'] + c\n",
    "df"
   ]
  },
  {
   "cell_type": "markdown",
   "metadata": {},
   "source": [
    "# PLOT dengan Y_Pred"
   ]
  },
  {
   "cell_type": "code",
   "execution_count": 19,
   "metadata": {},
   "outputs": [
    {
     "data": {
      "text/plain": [
       "[<matplotlib.lines.Line2D at 0xbcba508>]"
      ]
     },
     "execution_count": 19,
     "metadata": {},
     "output_type": "execute_result"
    },
    {
     "data": {
      "image/png": "[encoded data removed]",
      "text/plain": [
       "<Figure size 432x144 with 3 Axes>"
      ]
     },
     "metadata": {
      "needs_background": "light"
     },
     "output_type": "display_data"
    }
   ],
   "source": [
    "plt.figure (figsize=(6,2))\n",
    "plt.subplot(131)\n",
    "plt.plot(df['mesin x1'], df ['harga y'], 'r-o')\n",
    "plt.plot(df['mesin x1'], df ['y_pred'], 'y-o')\n",
    "plt.subplot(132)\n",
    "plt.plot(df['usia x2'], df ['harga y'], 'g-o')\n",
    "plt.plot(df['usia x2'], df ['y_pred'], 'y-o')\n",
    "plt.subplot(133)\n",
    "plt.plot(df['km x3'], df ['harga y'], 'b-o')\n",
    "plt.plot(df['km x3'], df ['y_pred'], 'y-o')\n"
   ]
  },
  {
   "cell_type": "markdown",
   "metadata": {},
   "source": [
    "# Plot dengan y\""
   ]
  },
  {
   "cell_type": "code",
   "execution_count": 34,
   "metadata": {},
   "outputs": [
    {
     "data": {
      "text/plain": [
       "[<matplotlib.lines.Line2D at 0xc5acb88>]"
      ]
     },
     "execution_count": 34,
     "metadata": {},
     "output_type": "execute_result"
    },
    {
     "data": {
      "image/png": "[encoded data removed]",
      "text/plain": [
       "<Figure size 864x288 with 3 Axes>"
      ]
     },
     "metadata": {
      "needs_background": "light"
     },
     "output_type": "display_data"
    }
   ],
   "source": [
    "plt.figure (figsize=(12,4))\n",
    "plt.subplot(131)\n",
    "plt.plot(df['mesin x1'], df ['harga y'], 'r-o')\n",
    "plt.plot(df['mesin x1'], df ['y\" x1'], 'y-o')\n",
    "plt.subplot(132)\n",
    "plt.plot(df['usia x2'], df ['harga y'], 'g-o')\n",
    "plt.plot(df['usia x2'], df ['y\" x2'], 'y-o')\n",
    "plt.subplot(133)\n",
    "plt.plot(df['km x3'], df ['harga y'], 'b-o')\n",
    "plt.plot(df['km x3'], df ['y\" x3'], 'y-o')\n"
   ]
  },
  {
   "cell_type": "markdown",
   "metadata": {},
   "source": [
    "# Evaluation Metrics"
   ]
  },
  {
   "cell_type": "markdown",
   "metadata": {},
   "source": [
    "## MAE , MSE , RMSE , MedAE , MSLE , RMSLE , R2 SCORE"
   ]
  },
  {
   "cell_type": "code",
   "execution_count": 38,
   "metadata": {},
   "outputs": [
    {
     "name": "stdout",
     "output_type": "stream",
     "text": [
      "MAE :  8.4\n",
      "MSE :  88.4\n",
      "RMSE :  9.402127418834526\n",
      "MedAE :  5.52\n",
      "MSLE :  0.0\n",
      "RMSLE :  0.0\n",
      "R2 SCORE :  1.0\n"
     ]
    }
   ],
   "source": [
    "from sklearn.metrics import mean_absolute_error, mean_squared_error,median_absolute_error,mean_squared_log_error,r2_score\n",
    "print (\"MAE : \",\n",
    "round (mean_absolute_error (df['harga y'],df['y_pred']),2))\n",
    "\n",
    "print (\"MSE : \",\n",
    "round (mean_squared_error (df['harga y'],df['y_pred']),2))\n",
    "\n",
    "print (\"RMSE : \",\n",
    "np.sqrt(round (mean_squared_error (df['harga y'],df['y_pred']),2)))\n",
    "\n",
    "print (\"MedAE : \",\n",
    "round (median_absolute_error (df['harga y'],df['y_pred']),2))\n",
    "\n",
    "print (\"MSLE : \",\n",
    "round (mean_squared_log_error (df['harga y'],df['y_pred']),2))\n",
    "\n",
    "print (\"RMSLE : \",\n",
    "np.sqrt(round (mean_squared_log_error (df['harga y'],df['y_pred']),2)))\n",
    "\n",
    "print (\"R2 SCORE : \",\n",
    "round ( r2_score (df['harga y'],df['y_pred'])))"
   ]
  },
  {
   "cell_type": "code",
   "execution_count": null,
   "metadata": {},
   "outputs": [],
   "source": []
  }
 ],
 "metadata": {
  "kernelspec": {
   "display_name": "Python 3",
   "language": "python",
   "name": "python3"
  },
  "language_info": {
   "codemirror_mode": {
    "name": "ipython",
    "version": 3
   },
   "file_extension": ".py",
   "mimetype": "text/x-python",
   "name": "python",
   "nbconvert_exporter": "python",
   "pygments_lexer": "ipython3",
   "version": "3.7.4"
  }
 },
 "nbformat": 4,
 "nbformat_minor": 4
}

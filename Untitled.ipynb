{
 "cells": [
  {
   "cell_type": "markdown",
   "metadata": {},
   "source": [
    "# POLINOMIAL REGRESSION"
   ]
  },
  {
   "cell_type": "code",
   "execution_count": 1,
   "metadata": {},
   "outputs": [],
   "source": [
    "import pandas as pd\n",
    "import numpy as np\n",
    "import matplotlib.pyplot as plt\n",
    "import seaborn as sb"
   ]
  },
  {
   "cell_type": "code",
   "execution_count": 25,
   "metadata": {},
   "outputs": [
    {
     "data": {
      "text/plain": [
       "[<matplotlib.lines.Line2D at 0xc30ae08>]"
      ]
     },
     "execution_count": 25,
     "metadata": {},
     "output_type": "execute_result"
    },
    {
     "data": {
      "image/png": "[encoded data removed]",
      "text/plain": [
       "<Figure size 432x288 with 1 Axes>"
      ]
     },
     "metadata": {
      "needs_background": "light"
     },
     "output_type": "display_data"
    }
   ],
   "source": [
    "x = np.arange(0, 270, 10)\n",
    "y = np.cos (x * np.pi/180) + np.random.normal(0,0.15,len(x))\n",
    "\n",
    "df = pd.DataFrame({'x' : x,'y' : y})\n",
    "plt.plot(df['x'],df['y'],'k.')"
   ]
  },
  {
   "cell_type": "code",
   "execution_count": 26,
   "metadata": {},
   "outputs": [
    {
     "data": {
      "text/plain": [
       "ElasticNet(alpha=1.0, copy_X=True, fit_intercept=True, l1_ratio=0.5,\n",
       "           max_iter=1000, normalize=False, positive=False, precompute=False,\n",
       "           random_state=None, selection='cyclic', tol=0.0001, warm_start=False)"
      ]
     },
     "execution_count": 26,
     "metadata": {},
     "output_type": "execute_result"
    }
   ],
   "source": [
    "from sklearn.linear_model import LinearRegression,Ridge,Lasso,ElasticNet\n",
    "modelA = LinearRegression ()\n",
    "modelB = Ridge()\n",
    "modelC = Lasso()\n",
    "modelD = ElasticNet()\n",
    "\n",
    "modelA.fit(df[['x']],df['y'])\n",
    "modelB.fit(df[['x']],df['y'])\n",
    "modelC.fit(df[['x']],df['y'])\n",
    "modelD.fit(df[['x']],df['y'])\n",
    "\n"
   ]
  },
  {
   "cell_type": "markdown",
   "metadata": {},
   "source": [
    "## Prediksi y dari 4 model"
   ]
  },
  {
   "cell_type": "code",
   "execution_count": 27,
   "metadata": {},
   "outputs": [
    {
     "data": {
      "text/html": [
       "<div>\n",
       "<style scoped>\n",
       "    .dataframe tbody tr th:only-of-type {\n",
       "        vertical-align: middle;\n",
       "    }\n",
       "\n",
       "    .dataframe tbody tr th {\n",
       "        vertical-align: top;\n",
       "    }\n",
       "\n",
       "    .dataframe thead th {\n",
       "        text-align: right;\n",
       "    }\n",
       "</style>\n",
       "<table border=\"1\" class=\"dataframe\">\n",
       "  <thead>\n",
       "    <tr style=\"text-align: right;\">\n",
       "      <th></th>\n",
       "      <th>x</th>\n",
       "      <th>y</th>\n",
       "      <th>y\"A</th>\n",
       "      <th>y\"B</th>\n",
       "      <th>y\"C</th>\n",
       "      <th>y\"D</th>\n",
       "    </tr>\n",
       "  </thead>\n",
       "  <tbody>\n",
       "    <tr>\n",
       "      <td>0</td>\n",
       "      <td>0</td>\n",
       "      <td>0.993264</td>\n",
       "      <td>0.732385</td>\n",
       "      <td>0.732379</td>\n",
       "      <td>0.710956</td>\n",
       "      <td>0.721596</td>\n",
       "    </tr>\n",
       "    <tr>\n",
       "      <td>1</td>\n",
       "      <td>10</td>\n",
       "      <td>1.007425</td>\n",
       "      <td>0.661899</td>\n",
       "      <td>0.661894</td>\n",
       "      <td>0.642119</td>\n",
       "      <td>0.651940</td>\n",
       "    </tr>\n",
       "    <tr>\n",
       "      <td>2</td>\n",
       "      <td>20</td>\n",
       "      <td>1.255811</td>\n",
       "      <td>0.591413</td>\n",
       "      <td>0.591408</td>\n",
       "      <td>0.573281</td>\n",
       "      <td>0.582284</td>\n",
       "    </tr>\n",
       "    <tr>\n",
       "      <td>3</td>\n",
       "      <td>30</td>\n",
       "      <td>0.708358</td>\n",
       "      <td>0.520927</td>\n",
       "      <td>0.520922</td>\n",
       "      <td>0.504443</td>\n",
       "      <td>0.512627</td>\n",
       "    </tr>\n",
       "    <tr>\n",
       "      <td>4</td>\n",
       "      <td>40</td>\n",
       "      <td>0.576121</td>\n",
       "      <td>0.450440</td>\n",
       "      <td>0.450437</td>\n",
       "      <td>0.435605</td>\n",
       "      <td>0.442971</td>\n",
       "    </tr>\n",
       "  </tbody>\n",
       "</table>\n",
       "</div>"
      ],
      "text/plain": [
       "    x         y       y\"A       y\"B       y\"C       y\"D\n",
       "0   0  0.993264  0.732385  0.732379  0.710956  0.721596\n",
       "1  10  1.007425  0.661899  0.661894  0.642119  0.651940\n",
       "2  20  1.255811  0.591413  0.591408  0.573281  0.582284\n",
       "3  30  0.708358  0.520927  0.520922  0.504443  0.512627\n",
       "4  40  0.576121  0.450440  0.450437  0.435605  0.442971"
      ]
     },
     "execution_count": 27,
     "metadata": {},
     "output_type": "execute_result"
    }
   ],
   "source": [
    "df['y\"A'] = modelA.predict(df[['x']])\n",
    "df['y\"B'] = modelB.predict(df[['x']])\n",
    "df['y\"C'] = modelC.predict(df[['x']])\n",
    "df['y\"D'] = modelD.predict(df[['x']])\n",
    "df.head()"
   ]
  },
  {
   "cell_type": "code",
   "execution_count": 32,
   "metadata": {},
   "outputs": [
    {
     "data": {
      "text/plain": [
       "Text(0, 0.5, 'Y')"
      ]
     },
     "execution_count": 32,
     "metadata": {},
     "output_type": "execute_result"
    },
    {
     "data": {
      "image/png": "[encoded data removed]",
      "text/plain": [
       "<Figure size 720x576 with 1 Axes>"
      ]
     },
     "metadata": {
      "needs_background": "light"
     },
     "output_type": "display_data"
    }
   ],
   "source": [
    "plt.figure(figsize=(10,8))\n",
    "\n",
    "plt.plot(df['x'], df['y'], 'r.')\n",
    "plt.plot(df['x'], df['y\"A'], 'g-')\n",
    "plt.plot(df['x'], df['y\"B'], 'b-')\n",
    "plt.plot(df['x'], df['y\"C'], 'm-')\n",
    "plt.plot(df['x'], df['y\"D'], 'k-')\n",
    "\n",
    "plt.legend(['Data','Linear','Ridge $alpha=1$','Lasso $alpha=1$','ElasticNet $alpha=1$'])\n",
    "plt.grid(True)\n",
    "plt.xlabel('X');plt.ylabel('Y')"
   ]
  },
  {
   "cell_type": "markdown",
   "metadata": {},
   "source": [
    "## Data Frame tambahkan x2 - x5"
   ]
  },
  {
   "cell_type": "code",
   "execution_count": 34,
   "metadata": {},
   "outputs": [
    {
     "data": {
      "text/html": [
       "<div>\n",
       "<style scoped>\n",
       "    .dataframe tbody tr th:only-of-type {\n",
       "        vertical-align: middle;\n",
       "    }\n",
       "\n",
       "    .dataframe tbody tr th {\n",
       "        vertical-align: top;\n",
       "    }\n",
       "\n",
       "    .dataframe thead th {\n",
       "        text-align: right;\n",
       "    }\n",
       "</style>\n",
       "<table border=\"1\" class=\"dataframe\">\n",
       "  <thead>\n",
       "    <tr style=\"text-align: right;\">\n",
       "      <th></th>\n",
       "      <th>x</th>\n",
       "      <th>y</th>\n",
       "      <th>y\"A</th>\n",
       "      <th>y\"B</th>\n",
       "      <th>y\"C</th>\n",
       "      <th>y\"D</th>\n",
       "      <th>x2</th>\n",
       "      <th>x3</th>\n",
       "      <th>x4</th>\n",
       "      <th>x5</th>\n",
       "    </tr>\n",
       "  </thead>\n",
       "  <tbody>\n",
       "    <tr>\n",
       "      <td>0</td>\n",
       "      <td>0</td>\n",
       "      <td>0.993264</td>\n",
       "      <td>0.732385</td>\n",
       "      <td>0.732379</td>\n",
       "      <td>0.710956</td>\n",
       "      <td>0.721596</td>\n",
       "      <td>0</td>\n",
       "      <td>0</td>\n",
       "      <td>0</td>\n",
       "      <td>0</td>\n",
       "    </tr>\n",
       "    <tr>\n",
       "      <td>1</td>\n",
       "      <td>10</td>\n",
       "      <td>1.007425</td>\n",
       "      <td>0.661899</td>\n",
       "      <td>0.661894</td>\n",
       "      <td>0.642119</td>\n",
       "      <td>0.651940</td>\n",
       "      <td>100</td>\n",
       "      <td>1000</td>\n",
       "      <td>10000</td>\n",
       "      <td>100000</td>\n",
       "    </tr>\n",
       "    <tr>\n",
       "      <td>2</td>\n",
       "      <td>20</td>\n",
       "      <td>1.255811</td>\n",
       "      <td>0.591413</td>\n",
       "      <td>0.591408</td>\n",
       "      <td>0.573281</td>\n",
       "      <td>0.582284</td>\n",
       "      <td>400</td>\n",
       "      <td>8000</td>\n",
       "      <td>160000</td>\n",
       "      <td>3200000</td>\n",
       "    </tr>\n",
       "    <tr>\n",
       "      <td>3</td>\n",
       "      <td>30</td>\n",
       "      <td>0.708358</td>\n",
       "      <td>0.520927</td>\n",
       "      <td>0.520922</td>\n",
       "      <td>0.504443</td>\n",
       "      <td>0.512627</td>\n",
       "      <td>900</td>\n",
       "      <td>27000</td>\n",
       "      <td>810000</td>\n",
       "      <td>24300000</td>\n",
       "    </tr>\n",
       "    <tr>\n",
       "      <td>4</td>\n",
       "      <td>40</td>\n",
       "      <td>0.576121</td>\n",
       "      <td>0.450440</td>\n",
       "      <td>0.450437</td>\n",
       "      <td>0.435605</td>\n",
       "      <td>0.442971</td>\n",
       "      <td>1600</td>\n",
       "      <td>64000</td>\n",
       "      <td>2560000</td>\n",
       "      <td>102400000</td>\n",
       "    </tr>\n",
       "  </tbody>\n",
       "</table>\n",
       "</div>"
      ],
      "text/plain": [
       "    x         y       y\"A       y\"B       y\"C       y\"D    x2     x3       x4  \\\n",
       "0   0  0.993264  0.732385  0.732379  0.710956  0.721596     0      0        0   \n",
       "1  10  1.007425  0.661899  0.661894  0.642119  0.651940   100   1000    10000   \n",
       "2  20  1.255811  0.591413  0.591408  0.573281  0.582284   400   8000   160000   \n",
       "3  30  0.708358  0.520927  0.520922  0.504443  0.512627   900  27000   810000   \n",
       "4  40  0.576121  0.450440  0.450437  0.435605  0.442971  1600  64000  2560000   \n",
       "\n",
       "          x5  \n",
       "0          0  \n",
       "1     100000  \n",
       "2    3200000  \n",
       "3   24300000  \n",
       "4  102400000  "
      ]
     },
     "execution_count": 34,
     "metadata": {},
     "output_type": "execute_result"
    }
   ],
   "source": [
    "# df['x2']=x**2\n",
    "# df['x3']=x**3\n",
    "# df['x4']=x**4\n",
    "# df['x5']=x**5\n",
    "# df.head()\n",
    "\n",
    "## atau cara lain pakai looping\n",
    "\n",
    "for i in range (2,6):\n",
    "    df[f'x{i}'] = df['x']**i\n",
    "    \n",
    "df.head()"
   ]
  },
  {
   "cell_type": "code",
   "execution_count": 38,
   "metadata": {},
   "outputs": [
    {
     "data": {
      "text/html": [
       "<div>\n",
       "<style scoped>\n",
       "    .dataframe tbody tr th:only-of-type {\n",
       "        vertical-align: middle;\n",
       "    }\n",
       "\n",
       "    .dataframe tbody tr th {\n",
       "        vertical-align: top;\n",
       "    }\n",
       "\n",
       "    .dataframe thead th {\n",
       "        text-align: right;\n",
       "    }\n",
       "</style>\n",
       "<table border=\"1\" class=\"dataframe\">\n",
       "  <thead>\n",
       "    <tr style=\"text-align: right;\">\n",
       "      <th></th>\n",
       "      <th>x</th>\n",
       "      <th>y</th>\n",
       "      <th>y\"A</th>\n",
       "      <th>y\"B</th>\n",
       "      <th>y\"C</th>\n",
       "      <th>y\"D</th>\n",
       "      <th>x2</th>\n",
       "      <th>x3</th>\n",
       "      <th>x4</th>\n",
       "      <th>x5</th>\n",
       "      <th>y\"E2</th>\n",
       "    </tr>\n",
       "  </thead>\n",
       "  <tbody>\n",
       "    <tr>\n",
       "      <td>0</td>\n",
       "      <td>0</td>\n",
       "      <td>0.993264</td>\n",
       "      <td>0.732385</td>\n",
       "      <td>0.732379</td>\n",
       "      <td>0.710956</td>\n",
       "      <td>0.721596</td>\n",
       "      <td>0</td>\n",
       "      <td>0</td>\n",
       "      <td>0</td>\n",
       "      <td>0</td>\n",
       "      <td>1.512415</td>\n",
       "    </tr>\n",
       "    <tr>\n",
       "      <td>1</td>\n",
       "      <td>10</td>\n",
       "      <td>1.007425</td>\n",
       "      <td>0.661899</td>\n",
       "      <td>0.661894</td>\n",
       "      <td>0.642119</td>\n",
       "      <td>0.651940</td>\n",
       "      <td>100</td>\n",
       "      <td>1000</td>\n",
       "      <td>10000</td>\n",
       "      <td>100000</td>\n",
       "      <td>1.261922</td>\n",
       "    </tr>\n",
       "    <tr>\n",
       "      <td>2</td>\n",
       "      <td>20</td>\n",
       "      <td>1.255811</td>\n",
       "      <td>0.591413</td>\n",
       "      <td>0.591408</td>\n",
       "      <td>0.573281</td>\n",
       "      <td>0.582284</td>\n",
       "      <td>400</td>\n",
       "      <td>8000</td>\n",
       "      <td>160000</td>\n",
       "      <td>3200000</td>\n",
       "      <td>1.025830</td>\n",
       "    </tr>\n",
       "    <tr>\n",
       "      <td>3</td>\n",
       "      <td>30</td>\n",
       "      <td>0.708358</td>\n",
       "      <td>0.520927</td>\n",
       "      <td>0.520922</td>\n",
       "      <td>0.504443</td>\n",
       "      <td>0.512627</td>\n",
       "      <td>900</td>\n",
       "      <td>27000</td>\n",
       "      <td>810000</td>\n",
       "      <td>24300000</td>\n",
       "      <td>0.804138</td>\n",
       "    </tr>\n",
       "    <tr>\n",
       "      <td>4</td>\n",
       "      <td>40</td>\n",
       "      <td>0.576121</td>\n",
       "      <td>0.450440</td>\n",
       "      <td>0.450437</td>\n",
       "      <td>0.435605</td>\n",
       "      <td>0.442971</td>\n",
       "      <td>1600</td>\n",
       "      <td>64000</td>\n",
       "      <td>2560000</td>\n",
       "      <td>102400000</td>\n",
       "      <td>0.596846</td>\n",
       "    </tr>\n",
       "  </tbody>\n",
       "</table>\n",
       "</div>"
      ],
      "text/plain": [
       "    x         y       y\"A       y\"B       y\"C       y\"D    x2     x3       x4  \\\n",
       "0   0  0.993264  0.732385  0.732379  0.710956  0.721596     0      0        0   \n",
       "1  10  1.007425  0.661899  0.661894  0.642119  0.651940   100   1000    10000   \n",
       "2  20  1.255811  0.591413  0.591408  0.573281  0.582284   400   8000   160000   \n",
       "3  30  0.708358  0.520927  0.520922  0.504443  0.512627   900  27000   810000   \n",
       "4  40  0.576121  0.450440  0.450437  0.435605  0.442971  1600  64000  2560000   \n",
       "\n",
       "          x5      y\"E2  \n",
       "0          0  1.512415  \n",
       "1     100000  1.261922  \n",
       "2    3200000  1.025830  \n",
       "3   24300000  0.804138  \n",
       "4  102400000  0.596846  "
      ]
     },
     "execution_count": 38,
     "metadata": {},
     "output_type": "execute_result"
    }
   ],
   "source": [
    "modelE = LinearRegression()\n",
    "modelE.fit(df[['x','x2']],df['y'])\n",
    "\n",
    "df['y\"E2'] = modelE.predict(df[['x','x2']])\n",
    "df.head()"
   ]
  },
  {
   "cell_type": "code",
   "execution_count": 39,
   "metadata": {},
   "outputs": [
    {
     "data": {
      "text/plain": [
       "[<matplotlib.lines.Line2D at 0xd6bad08>]"
      ]
     },
     "execution_count": 39,
     "metadata": {},
     "output_type": "execute_result"
    },
    {
     "data": {
      "image/png": "[encoded data removed]",
      "text/plain": [
       "<Figure size 432x288 with 1 Axes>"
      ]
     },
     "metadata": {
      "needs_background": "light"
     },
     "output_type": "display_data"
    }
   ],
   "source": [
    "plt.plot(df['x'],df['y'],'k.')\n",
    "plt.plot(df['x'],df['y\"E2'],'r-')"
   ]
  },
  {
   "cell_type": "markdown",
   "metadata": {},
   "source": [
    "### Looping untuk percobaan semua X"
   ]
  },
  {
   "cell_type": "code",
   "execution_count": 47,
   "metadata": {},
   "outputs": [
    {
     "data": {
      "text/html": [
       "<div>\n",
       "<style scoped>\n",
       "    .dataframe tbody tr th:only-of-type {\n",
       "        vertical-align: middle;\n",
       "    }\n",
       "\n",
       "    .dataframe tbody tr th {\n",
       "        vertical-align: top;\n",
       "    }\n",
       "\n",
       "    .dataframe thead th {\n",
       "        text-align: right;\n",
       "    }\n",
       "</style>\n",
       "<table border=\"1\" class=\"dataframe\">\n",
       "  <thead>\n",
       "    <tr style=\"text-align: right;\">\n",
       "      <th></th>\n",
       "      <th>x</th>\n",
       "      <th>y</th>\n",
       "      <th>y\"A</th>\n",
       "      <th>y\"B</th>\n",
       "      <th>y\"C</th>\n",
       "      <th>y\"D</th>\n",
       "      <th>x2</th>\n",
       "      <th>x3</th>\n",
       "      <th>x4</th>\n",
       "      <th>x5</th>\n",
       "      <th>y\"E2</th>\n",
       "      <th>y\"</th>\n",
       "      <th>y\"E{i}</th>\n",
       "      <th>y\"E3</th>\n",
       "      <th>y\"E4</th>\n",
       "      <th>y\"E5</th>\n",
       "    </tr>\n",
       "  </thead>\n",
       "  <tbody>\n",
       "    <tr>\n",
       "      <td>0</td>\n",
       "      <td>0</td>\n",
       "      <td>0.993264</td>\n",
       "      <td>0.732385</td>\n",
       "      <td>0.732379</td>\n",
       "      <td>0.710956</td>\n",
       "      <td>0.721596</td>\n",
       "      <td>0</td>\n",
       "      <td>0</td>\n",
       "      <td>0</td>\n",
       "      <td>0</td>\n",
       "      <td>1.512415</td>\n",
       "      <td>1.109492</td>\n",
       "      <td>1.109492</td>\n",
       "      <td>1.111118</td>\n",
       "      <td>1.109509</td>\n",
       "      <td>1.109492</td>\n",
       "    </tr>\n",
       "    <tr>\n",
       "      <td>1</td>\n",
       "      <td>10</td>\n",
       "      <td>1.007425</td>\n",
       "      <td>0.661899</td>\n",
       "      <td>0.661894</td>\n",
       "      <td>0.642119</td>\n",
       "      <td>0.651940</td>\n",
       "      <td>100</td>\n",
       "      <td>1000</td>\n",
       "      <td>10000</td>\n",
       "      <td>100000</td>\n",
       "      <td>1.261922</td>\n",
       "      <td>1.046979</td>\n",
       "      <td>1.046979</td>\n",
       "      <td>1.045839</td>\n",
       "      <td>1.045812</td>\n",
       "      <td>1.046979</td>\n",
       "    </tr>\n",
       "    <tr>\n",
       "      <td>2</td>\n",
       "      <td>20</td>\n",
       "      <td>1.255811</td>\n",
       "      <td>0.591413</td>\n",
       "      <td>0.591408</td>\n",
       "      <td>0.573281</td>\n",
       "      <td>0.582284</td>\n",
       "      <td>400</td>\n",
       "      <td>8000</td>\n",
       "      <td>160000</td>\n",
       "      <td>3200000</td>\n",
       "      <td>1.025830</td>\n",
       "      <td>0.960905</td>\n",
       "      <td>0.960905</td>\n",
       "      <td>0.957918</td>\n",
       "      <td>0.958909</td>\n",
       "      <td>0.960905</td>\n",
       "    </tr>\n",
       "    <tr>\n",
       "      <td>3</td>\n",
       "      <td>30</td>\n",
       "      <td>0.708358</td>\n",
       "      <td>0.520927</td>\n",
       "      <td>0.520922</td>\n",
       "      <td>0.504443</td>\n",
       "      <td>0.512627</td>\n",
       "      <td>900</td>\n",
       "      <td>27000</td>\n",
       "      <td>810000</td>\n",
       "      <td>24300000</td>\n",
       "      <td>0.804138</td>\n",
       "      <td>0.854308</td>\n",
       "      <td>0.854308</td>\n",
       "      <td>0.850441</td>\n",
       "      <td>0.851955</td>\n",
       "      <td>0.854308</td>\n",
       "    </tr>\n",
       "    <tr>\n",
       "      <td>4</td>\n",
       "      <td>40</td>\n",
       "      <td>0.576121</td>\n",
       "      <td>0.450440</td>\n",
       "      <td>0.450437</td>\n",
       "      <td>0.435605</td>\n",
       "      <td>0.442971</td>\n",
       "      <td>1600</td>\n",
       "      <td>64000</td>\n",
       "      <td>2560000</td>\n",
       "      <td>102400000</td>\n",
       "      <td>0.596846</td>\n",
       "      <td>0.729992</td>\n",
       "      <td>0.729992</td>\n",
       "      <td>0.726496</td>\n",
       "      <td>0.728105</td>\n",
       "      <td>0.729992</td>\n",
       "    </tr>\n",
       "  </tbody>\n",
       "</table>\n",
       "</div>"
      ],
      "text/plain": [
       "    x         y       y\"A       y\"B       y\"C       y\"D    x2     x3       x4  \\\n",
       "0   0  0.993264  0.732385  0.732379  0.710956  0.721596     0      0        0   \n",
       "1  10  1.007425  0.661899  0.661894  0.642119  0.651940   100   1000    10000   \n",
       "2  20  1.255811  0.591413  0.591408  0.573281  0.582284   400   8000   160000   \n",
       "3  30  0.708358  0.520927  0.520922  0.504443  0.512627   900  27000   810000   \n",
       "4  40  0.576121  0.450440  0.450437  0.435605  0.442971  1600  64000  2560000   \n",
       "\n",
       "          x5      y\"E2        y\"    y\"E{i}      y\"E3      y\"E4      y\"E5  \n",
       "0          0  1.512415  1.109492  1.109492  1.111118  1.109509  1.109492  \n",
       "1     100000  1.261922  1.046979  1.046979  1.045839  1.045812  1.046979  \n",
       "2    3200000  1.025830  0.960905  0.960905  0.957918  0.958909  0.960905  \n",
       "3   24300000  0.804138  0.854308  0.854308  0.850441  0.851955  0.854308  \n",
       "4  102400000  0.596846  0.729992  0.729992  0.726496  0.728105  0.729992  "
      ]
     },
     "execution_count": 47,
     "metadata": {},
     "output_type": "execute_result"
    }
   ],
   "source": [
    "modelE = LinearRegression()\n",
    "\n",
    "xn =['x']\n",
    "for i in range (2,6) :\n",
    "    xn.append (f'x{i}')\n",
    "\n",
    "    modelE.fit (df[xn],df['y'])\n",
    "    df[f'y\"E{i}'] = modelE.predict(df[xn])\n",
    "df.head()"
   ]
  },
  {
   "cell_type": "code",
   "execution_count": 50,
   "metadata": {},
   "outputs": [
    {
     "data": {
      "text/plain": [
       "[<matplotlib.lines.Line2D at 0xe116288>]"
      ]
     },
     "execution_count": 50,
     "metadata": {},
     "output_type": "execute_result"
    },
    {
     "data": {
      "image/png": "[encoded data removed]",
      "text/plain": [
       "<Figure size 432x288 with 1 Axes>"
      ]
     },
     "metadata": {
      "needs_background": "light"
     },
     "output_type": "display_data"
    }
   ],
   "source": [
    "plt.plot (df['x'],df['y'],'k.')\n",
    "plt.plot (df['x'],df['y\"E5'],'c-')"
   ]
  },
  {
   "cell_type": "markdown",
   "metadata": {},
   "source": [
    "## Data Frame"
   ]
  },
  {
   "cell_type": "code",
   "execution_count": 51,
   "metadata": {},
   "outputs": [
    {
     "data": {
      "text/plain": [
       "[<matplotlib.lines.Line2D at 0xe18db88>]"
      ]
     },
     "execution_count": 51,
     "metadata": {},
     "output_type": "execute_result"
    },
    {
     "data": {
      "image/png": "[encoded data removed]",
      "text/plain": [
       "<Figure size 432x288 with 1 Axes>"
      ]
     },
     "metadata": {
      "needs_background": "light"
     },
     "output_type": "display_data"
    }
   ],
   "source": [
    "x = np.arange(0, 270, 10)\n",
    "y = np.cos (x * np.pi/180) + np.random.normal(0,0.15,len(x))\n",
    "\n",
    "df = pd.DataFrame({'x' : x,'y' : y})\n",
    "plt.plot(df['x'],df['y'],'k.')"
   ]
  },
  {
   "cell_type": "markdown",
   "metadata": {},
   "source": [
    "# POLINOMIAL FEATURE \n",
    "- Buat bikin x^1,x^2 dsb dengan mudah"
   ]
  },
  {
   "cell_type": "code",
   "execution_count": 56,
   "metadata": {},
   "outputs": [],
   "source": [
    "from sklearn.preprocessing import PolynomialFeatures\n",
    "\n"
   ]
  },
  {
   "cell_type": "code",
   "execution_count": 59,
   "metadata": {},
   "outputs": [
    {
     "data": {
      "text/plain": [
       "array([[ 2.,  4.,  8., 16., 32.]])"
      ]
     },
     "execution_count": 59,
     "metadata": {},
     "output_type": "execute_result"
    }
   ],
   "source": [
    "a = [2]\n",
    "apoli = PolynomialFeatures(5, include_bias =False) ## kalau mau hilangkan 2^0 maka pakai include_bias = false\n",
    "apoli.fit([a])\n",
    "apoli.transform([a])\n",
    "# apoli.fit_transform([a])"
   ]
  },
  {
   "cell_type": "code",
   "execution_count": null,
   "metadata": {},
   "outputs": [],
   "source": []
  },
  {
   "cell_type": "code",
   "execution_count": 61,
   "metadata": {},
   "outputs": [
    {
     "data": {
      "text/plain": [
       "array([[          3,           9,          27,          81,         243,\n",
       "                729,        2187,        6561,       19683,       59049],\n",
       "       [          6,          36,         216,        1296,        7776,\n",
       "              46656,      279936,     1679616,    10077696,    60466176],\n",
       "       [          9,          81,         729,        6561,       59049,\n",
       "             531441,     4782969,    43046721,   387420489, -2147483648]])"
      ]
     },
     "execution_count": 61,
     "metadata": {},
     "output_type": "execute_result"
    }
   ],
   "source": [
    "b = [3,6,9]\n",
    "\n",
    "# pangkat 1 - pangkat 10 ?\n",
    "# 3,9,27,81\n",
    "# 6,36,216, ...\n",
    "# 9,81\n",
    "\n",
    "bpoli = PolynomialFeatures(10, include_bias =False)\n",
    "bp = bpoli.fit_transform (np.array(b).reshape(-1,1))\n",
    "bp.astype(int)"
   ]
  },
  {
   "cell_type": "markdown",
   "metadata": {},
   "source": [
    "### latihan soal"
   ]
  },
  {
   "cell_type": "code",
   "execution_count": 63,
   "metadata": {},
   "outputs": [
    {
     "data": {
      "text/html": [
       "<div>\n",
       "<style scoped>\n",
       "    .dataframe tbody tr th:only-of-type {\n",
       "        vertical-align: middle;\n",
       "    }\n",
       "\n",
       "    .dataframe tbody tr th {\n",
       "        vertical-align: top;\n",
       "    }\n",
       "\n",
       "    .dataframe thead th {\n",
       "        text-align: right;\n",
       "    }\n",
       "</style>\n",
       "<table border=\"1\" class=\"dataframe\">\n",
       "  <thead>\n",
       "    <tr style=\"text-align: right;\">\n",
       "      <th></th>\n",
       "      <th>c</th>\n",
       "    </tr>\n",
       "  </thead>\n",
       "  <tbody>\n",
       "    <tr>\n",
       "      <td>0</td>\n",
       "      <td>1</td>\n",
       "    </tr>\n",
       "    <tr>\n",
       "      <td>1</td>\n",
       "      <td>2</td>\n",
       "    </tr>\n",
       "    <tr>\n",
       "      <td>2</td>\n",
       "      <td>3</td>\n",
       "    </tr>\n",
       "    <tr>\n",
       "      <td>3</td>\n",
       "      <td>4</td>\n",
       "    </tr>\n",
       "    <tr>\n",
       "      <td>4</td>\n",
       "      <td>5</td>\n",
       "    </tr>\n",
       "    <tr>\n",
       "      <td>5</td>\n",
       "      <td>6</td>\n",
       "    </tr>\n",
       "    <tr>\n",
       "      <td>6</td>\n",
       "      <td>7</td>\n",
       "    </tr>\n",
       "    <tr>\n",
       "      <td>7</td>\n",
       "      <td>8</td>\n",
       "    </tr>\n",
       "    <tr>\n",
       "      <td>8</td>\n",
       "      <td>9</td>\n",
       "    </tr>\n",
       "    <tr>\n",
       "      <td>9</td>\n",
       "      <td>10</td>\n",
       "    </tr>\n",
       "  </tbody>\n",
       "</table>\n",
       "</div>"
      ],
      "text/plain": [
       "    c\n",
       "0   1\n",
       "1   2\n",
       "2   3\n",
       "3   4\n",
       "4   5\n",
       "5   6\n",
       "6   7\n",
       "7   8\n",
       "8   9\n",
       "9  10"
      ]
     },
     "execution_count": 63,
     "metadata": {},
     "output_type": "execute_result"
    }
   ],
   "source": [
    "df = pd.DataFrame ({'c' : np.arange (1,11)})\n",
    "df"
   ]
  },
  {
   "cell_type": "code",
   "execution_count": null,
   "metadata": {},
   "outputs": [],
   "source": []
  },
  {
   "cell_type": "markdown",
   "metadata": {},
   "source": [
    "### Cari nilai c2 c3 c4 c5 c6 c7 c8 c9 c10\n"
   ]
  },
  {
   "cell_type": "code",
   "execution_count": 66,
   "metadata": {},
   "outputs": [
    {
     "data": {
      "text/html": [
       "<div>\n",
       "<style scoped>\n",
       "    .dataframe tbody tr th:only-of-type {\n",
       "        vertical-align: middle;\n",
       "    }\n",
       "\n",
       "    .dataframe tbody tr th {\n",
       "        vertical-align: top;\n",
       "    }\n",
       "\n",
       "    .dataframe thead th {\n",
       "        text-align: right;\n",
       "    }\n",
       "</style>\n",
       "<table border=\"1\" class=\"dataframe\">\n",
       "  <thead>\n",
       "    <tr style=\"text-align: right;\">\n",
       "      <th></th>\n",
       "      <th>c</th>\n",
       "      <th>c1</th>\n",
       "      <th>c2</th>\n",
       "      <th>c3</th>\n",
       "      <th>c4</th>\n",
       "      <th>c5</th>\n",
       "      <th>c6</th>\n",
       "      <th>c7</th>\n",
       "      <th>c8</th>\n",
       "      <th>c9</th>\n",
       "      <th>c10</th>\n",
       "    </tr>\n",
       "  </thead>\n",
       "  <tbody>\n",
       "    <tr>\n",
       "      <td>0</td>\n",
       "      <td>1</td>\n",
       "      <td>1.0</td>\n",
       "      <td>1.0</td>\n",
       "      <td>1.0</td>\n",
       "      <td>1.0</td>\n",
       "      <td>1.0</td>\n",
       "      <td>1.0</td>\n",
       "      <td>1.0</td>\n",
       "      <td>1.0</td>\n",
       "      <td>1.0</td>\n",
       "      <td>1.0</td>\n",
       "    </tr>\n",
       "    <tr>\n",
       "      <td>1</td>\n",
       "      <td>2</td>\n",
       "      <td>2.0</td>\n",
       "      <td>4.0</td>\n",
       "      <td>8.0</td>\n",
       "      <td>16.0</td>\n",
       "      <td>32.0</td>\n",
       "      <td>64.0</td>\n",
       "      <td>128.0</td>\n",
       "      <td>256.0</td>\n",
       "      <td>512.0</td>\n",
       "      <td>1024.0</td>\n",
       "    </tr>\n",
       "    <tr>\n",
       "      <td>2</td>\n",
       "      <td>3</td>\n",
       "      <td>3.0</td>\n",
       "      <td>9.0</td>\n",
       "      <td>27.0</td>\n",
       "      <td>81.0</td>\n",
       "      <td>243.0</td>\n",
       "      <td>729.0</td>\n",
       "      <td>2187.0</td>\n",
       "      <td>6561.0</td>\n",
       "      <td>19683.0</td>\n",
       "      <td>59049.0</td>\n",
       "    </tr>\n",
       "    <tr>\n",
       "      <td>3</td>\n",
       "      <td>4</td>\n",
       "      <td>4.0</td>\n",
       "      <td>16.0</td>\n",
       "      <td>64.0</td>\n",
       "      <td>256.0</td>\n",
       "      <td>1024.0</td>\n",
       "      <td>4096.0</td>\n",
       "      <td>16384.0</td>\n",
       "      <td>65536.0</td>\n",
       "      <td>262144.0</td>\n",
       "      <td>1048576.0</td>\n",
       "    </tr>\n",
       "    <tr>\n",
       "      <td>4</td>\n",
       "      <td>5</td>\n",
       "      <td>5.0</td>\n",
       "      <td>25.0</td>\n",
       "      <td>125.0</td>\n",
       "      <td>625.0</td>\n",
       "      <td>3125.0</td>\n",
       "      <td>15625.0</td>\n",
       "      <td>78125.0</td>\n",
       "      <td>390625.0</td>\n",
       "      <td>1953125.0</td>\n",
       "      <td>9765625.0</td>\n",
       "    </tr>\n",
       "  </tbody>\n",
       "</table>\n",
       "</div>"
      ],
      "text/plain": [
       "   c   c1    c2     c3     c4      c5       c6       c7        c8         c9  \\\n",
       "0  1  1.0   1.0    1.0    1.0     1.0      1.0      1.0       1.0        1.0   \n",
       "1  2  2.0   4.0    8.0   16.0    32.0     64.0    128.0     256.0      512.0   \n",
       "2  3  3.0   9.0   27.0   81.0   243.0    729.0   2187.0    6561.0    19683.0   \n",
       "3  4  4.0  16.0   64.0  256.0  1024.0   4096.0  16384.0   65536.0   262144.0   \n",
       "4  5  5.0  25.0  125.0  625.0  3125.0  15625.0  78125.0  390625.0  1953125.0   \n",
       "\n",
       "         c10  \n",
       "0        1.0  \n",
       "1     1024.0  \n",
       "2    59049.0  \n",
       "3  1048576.0  \n",
       "4  9765625.0  "
      ]
     },
     "execution_count": 66,
     "metadata": {},
     "output_type": "execute_result"
    }
   ],
   "source": [
    "df = pd.DataFrame ({'c' : np.arange (1,11)})\n",
    "x = PolynomialFeatures(10, include_bias =False)\n",
    "cp = x.fit_transform (df[['c']])\n",
    "cp = c.transpose()\n",
    "for i in range  (len(cp)) :\n",
    "    df[f'c{i+1}'] = c[i]\n",
    "df.head()"
   ]
  },
  {
   "cell_type": "markdown",
   "metadata": {},
   "source": [
    "# PIPELINE"
   ]
  },
  {
   "cell_type": "markdown",
   "metadata": {},
   "source": [
    "### Data => standardscaler () => binarizer ()\n"
   ]
  },
  {
   "cell_type": "code",
   "execution_count": 67,
   "metadata": {},
   "outputs": [],
   "source": [
    "from sklearn.preprocessing import StandardScaler,Binarizer"
   ]
  },
  {
   "cell_type": "code",
   "execution_count": null,
   "metadata": {},
   "outputs": [],
   "source": []
  },
  {
   "cell_type": "code",
   "execution_count": 68,
   "metadata": {},
   "outputs": [
    {
     "data": {
      "text/plain": [
       "array([[-1.5666989 ],\n",
       "       [-1.21854359],\n",
       "       [-0.87038828],\n",
       "       [-0.52223297],\n",
       "       [-0.17407766],\n",
       "       [ 0.17407766],\n",
       "       [ 0.52223297],\n",
       "       [ 0.87038828],\n",
       "       [ 1.21854359],\n",
       "       [ 1.5666989 ]])"
      ]
     },
     "execution_count": 68,
     "metadata": {},
     "output_type": "execute_result"
    }
   ],
   "source": [
    "data = np.arange (1000,11000,1000)\n",
    "data = StandardScaler().fit_transform(data.reshape(-1,1))\n",
    "data"
   ]
  },
  {
   "cell_type": "markdown",
   "metadata": {},
   "source": [
    "### Binarizer : mau ubah yang di atas 0 jadi 1 dan yang di bawah 0 jadi 0"
   ]
  },
  {
   "cell_type": "code",
   "execution_count": 69,
   "metadata": {},
   "outputs": [
    {
     "data": {
      "text/plain": [
       "array([[0.],\n",
       "       [0.],\n",
       "       [0.],\n",
       "       [0.],\n",
       "       [0.],\n",
       "       [1.],\n",
       "       [1.],\n",
       "       [1.],\n",
       "       [1.],\n",
       "       [1.]])"
      ]
     },
     "execution_count": 69,
     "metadata": {},
     "output_type": "execute_result"
    }
   ],
   "source": [
    "data = Binarizer(threshold=0).fit_transform(data)\n",
    "data"
   ]
  },
  {
   "cell_type": "markdown",
   "metadata": {},
   "source": [
    "### Lakukan sekaligus StandarScaler & Binarizer dengan Pipeline"
   ]
  },
  {
   "cell_type": "code",
   "execution_count": 71,
   "metadata": {},
   "outputs": [
    {
     "data": {
      "text/plain": [
       "array([[0.],\n",
       "       [0.],\n",
       "       [0.],\n",
       "       [0.],\n",
       "       [0.],\n",
       "       [1.],\n",
       "       [1.],\n",
       "       [1.],\n",
       "       [1.],\n",
       "       [1.]])"
      ]
     },
     "execution_count": 71,
     "metadata": {},
     "output_type": "execute_result"
    }
   ],
   "source": [
    "from sklearn.pipeline import make_pipeline\n",
    "\n",
    "\n",
    "data = np.arange (1000,11000,1000)\n",
    "pipe = make_pipeline(StandardScaler(),Binarizer(threshold=0))\n",
    "pipe.fit_transform(data.reshape(-1,1))\n"
   ]
  },
  {
   "cell_type": "markdown",
   "metadata": {},
   "source": [
    "# POLYNOMIAL\n",
    "- Pipeline => Polynomial => Linear Regression"
   ]
  },
  {
   "cell_type": "code",
   "execution_count": 74,
   "metadata": {},
   "outputs": [
    {
     "data": {
      "text/html": [
       "<div>\n",
       "<style scoped>\n",
       "    .dataframe tbody tr th:only-of-type {\n",
       "        vertical-align: middle;\n",
       "    }\n",
       "\n",
       "    .dataframe tbody tr th {\n",
       "        vertical-align: top;\n",
       "    }\n",
       "\n",
       "    .dataframe thead th {\n",
       "        text-align: right;\n",
       "    }\n",
       "</style>\n",
       "<table border=\"1\" class=\"dataframe\">\n",
       "  <thead>\n",
       "    <tr style=\"text-align: right;\">\n",
       "      <th></th>\n",
       "      <th>x</th>\n",
       "      <th>y</th>\n",
       "    </tr>\n",
       "  </thead>\n",
       "  <tbody>\n",
       "    <tr>\n",
       "      <td>0</td>\n",
       "      <td>0</td>\n",
       "      <td>1.174660</td>\n",
       "    </tr>\n",
       "    <tr>\n",
       "      <td>1</td>\n",
       "      <td>10</td>\n",
       "      <td>1.042480</td>\n",
       "    </tr>\n",
       "    <tr>\n",
       "      <td>2</td>\n",
       "      <td>20</td>\n",
       "      <td>1.048946</td>\n",
       "    </tr>\n",
       "    <tr>\n",
       "      <td>3</td>\n",
       "      <td>30</td>\n",
       "      <td>0.559490</td>\n",
       "    </tr>\n",
       "    <tr>\n",
       "      <td>4</td>\n",
       "      <td>40</td>\n",
       "      <td>0.662536</td>\n",
       "    </tr>\n",
       "  </tbody>\n",
       "</table>\n",
       "</div>"
      ],
      "text/plain": [
       "    x         y\n",
       "0   0  1.174660\n",
       "1  10  1.042480\n",
       "2  20  1.048946\n",
       "3  30  0.559490\n",
       "4  40  0.662536"
      ]
     },
     "execution_count": 74,
     "metadata": {},
     "output_type": "execute_result"
    }
   ],
   "source": [
    "x = np.arange(0, 270, 10)\n",
    "y = np.cos (x * np.pi/180) + np.random.normal(0,0.15,len(x))\n",
    "df = pd.DataFrame({'x' : x,'y' : y})\n",
    "df.head()\n"
   ]
  },
  {
   "cell_type": "code",
   "execution_count": 75,
   "metadata": {},
   "outputs": [
    {
     "data": {
      "text/plain": [
       "[<matplotlib.lines.Line2D at 0xe4d9748>]"
      ]
     },
     "execution_count": 75,
     "metadata": {},
     "output_type": "execute_result"
    },
    {
     "data": {
      "image/png": "[encoded data removed]",
      "text/plain": [
       "<Figure size 432x288 with 1 Axes>"
      ]
     },
     "metadata": {
      "needs_background": "light"
     },
     "output_type": "display_data"
    }
   ],
   "source": [
    "plt.plot(x,y)"
   ]
  },
  {
   "cell_type": "markdown",
   "metadata": {},
   "source": [
    "# - Pipeline => Polynomial => Linear Regression"
   ]
  },
  {
   "cell_type": "code",
   "execution_count": 77,
   "metadata": {},
   "outputs": [
    {
     "data": {
      "text/html": [
       "<div>\n",
       "<style scoped>\n",
       "    .dataframe tbody tr th:only-of-type {\n",
       "        vertical-align: middle;\n",
       "    }\n",
       "\n",
       "    .dataframe tbody tr th {\n",
       "        vertical-align: top;\n",
       "    }\n",
       "\n",
       "    .dataframe thead th {\n",
       "        text-align: right;\n",
       "    }\n",
       "</style>\n",
       "<table border=\"1\" class=\"dataframe\">\n",
       "  <thead>\n",
       "    <tr style=\"text-align: right;\">\n",
       "      <th></th>\n",
       "      <th>x</th>\n",
       "      <th>y</th>\n",
       "      <th>y\"2</th>\n",
       "      <th>y\"E2</th>\n",
       "    </tr>\n",
       "  </thead>\n",
       "  <tbody>\n",
       "    <tr>\n",
       "      <td>0</td>\n",
       "      <td>0</td>\n",
       "      <td>1.174660</td>\n",
       "      <td>1.453288</td>\n",
       "      <td>1.453288</td>\n",
       "    </tr>\n",
       "    <tr>\n",
       "      <td>1</td>\n",
       "      <td>10</td>\n",
       "      <td>1.042480</td>\n",
       "      <td>1.216131</td>\n",
       "      <td>1.216131</td>\n",
       "    </tr>\n",
       "    <tr>\n",
       "      <td>2</td>\n",
       "      <td>20</td>\n",
       "      <td>1.048946</td>\n",
       "      <td>0.992518</td>\n",
       "      <td>0.992518</td>\n",
       "    </tr>\n",
       "    <tr>\n",
       "      <td>3</td>\n",
       "      <td>30</td>\n",
       "      <td>0.559490</td>\n",
       "      <td>0.782448</td>\n",
       "      <td>0.782448</td>\n",
       "    </tr>\n",
       "    <tr>\n",
       "      <td>4</td>\n",
       "      <td>40</td>\n",
       "      <td>0.662536</td>\n",
       "      <td>0.585921</td>\n",
       "      <td>0.585921</td>\n",
       "    </tr>\n",
       "  </tbody>\n",
       "</table>\n",
       "</div>"
      ],
      "text/plain": [
       "    x         y       y\"2      y\"E2\n",
       "0   0  1.174660  1.453288  1.453288\n",
       "1  10  1.042480  1.216131  1.216131\n",
       "2  20  1.048946  0.992518  0.992518\n",
       "3  30  0.559490  0.782448  0.782448\n",
       "4  40  0.662536  0.585921  0.585921"
      ]
     },
     "execution_count": 77,
     "metadata": {},
     "output_type": "execute_result"
    }
   ],
   "source": [
    "polyReg = make_pipeline (\n",
    "    PolynomialFeatures(2, include_bias =False),\n",
    "    LinearRegression()   \n",
    ")\n",
    "\n",
    "# TRAIN \n",
    "polyReg.fit (df[['x']],df['y'])\n",
    "\n",
    "# PREDICT\n",
    "df['y\"E2'] = polyReg.predict(df[['x']])\n",
    "\n",
    "df.head()\n"
   ]
  },
  {
   "cell_type": "code",
   "execution_count": 79,
   "metadata": {},
   "outputs": [
    {
     "data": {
      "text/plain": [
       "Text(0, 0.5, 'Y')"
      ]
     },
     "execution_count": 79,
     "metadata": {},
     "output_type": "execute_result"
    },
    {
     "data": {
      "image/png": "[encoded data removed]",
      "text/plain": [
       "<Figure size 432x288 with 1 Axes>"
      ]
     },
     "metadata": {
      "needs_background": "light"
     },
     "output_type": "display_data"
    }
   ],
   "source": [
    "plt.plot(df['x'],df['y'],'k.')\n",
    "plt.plot(df['x'],df['y\"E2'],'r-')\n",
    "\n",
    "plt.legend(['Data','Linear'])\n",
    "plt.grid(True)\n",
    "plt.xlabel('X');plt.ylabel('Y')"
   ]
  },
  {
   "cell_type": "code",
   "execution_count": 80,
   "metadata": {},
   "outputs": [
    {
     "data": {
      "text/plain": [
       "[<matplotlib.lines.Line2D at 0xe830148>]"
      ]
     },
     "execution_count": 80,
     "metadata": {},
     "output_type": "execute_result"
    },
    {
     "data": {
      "image/png": "[encoded data removed]",
      "text/plain": [
       "<Figure size 432x288 with 1 Axes>"
      ]
     },
     "metadata": {
      "needs_background": "light"
     },
     "output_type": "display_data"
    }
   ],
   "source": [
    "data = {\n",
    "    'x' : np.arange(1,11),\n",
    "    'y' : [0,0,0,0,0,0,1,1,1,1]\n",
    "}\n",
    "\n",
    "df=pd.DataFrame(data)\n",
    "plt.plot(df['x'],df['y'],'r.')"
   ]
  },
  {
   "cell_type": "code",
   "execution_count": null,
   "metadata": {},
   "outputs": [],
   "source": []
  },
  {
   "cell_type": "markdown",
   "metadata": {},
   "source": [
    "### Latihan "
   ]
  },
  {
   "cell_type": "code",
   "execution_count": 83,
   "metadata": {},
   "outputs": [
    {
     "data": {
      "text/html": [
       "<div>\n",
       "<style scoped>\n",
       "    .dataframe tbody tr th:only-of-type {\n",
       "        vertical-align: middle;\n",
       "    }\n",
       "\n",
       "    .dataframe tbody tr th {\n",
       "        vertical-align: top;\n",
       "    }\n",
       "\n",
       "    .dataframe thead th {\n",
       "        text-align: right;\n",
       "    }\n",
       "</style>\n",
       "<table border=\"1\" class=\"dataframe\">\n",
       "  <thead>\n",
       "    <tr style=\"text-align: right;\">\n",
       "      <th></th>\n",
       "      <th>x</th>\n",
       "      <th>y</th>\n",
       "    </tr>\n",
       "  </thead>\n",
       "  <tbody>\n",
       "    <tr>\n",
       "      <td>0</td>\n",
       "      <td>0</td>\n",
       "      <td>1.174660</td>\n",
       "    </tr>\n",
       "    <tr>\n",
       "      <td>1</td>\n",
       "      <td>10</td>\n",
       "      <td>1.042480</td>\n",
       "    </tr>\n",
       "    <tr>\n",
       "      <td>2</td>\n",
       "      <td>20</td>\n",
       "      <td>1.048946</td>\n",
       "    </tr>\n",
       "    <tr>\n",
       "      <td>3</td>\n",
       "      <td>30</td>\n",
       "      <td>0.559490</td>\n",
       "    </tr>\n",
       "    <tr>\n",
       "      <td>4</td>\n",
       "      <td>40</td>\n",
       "      <td>0.662536</td>\n",
       "    </tr>\n",
       "  </tbody>\n",
       "</table>\n",
       "</div>"
      ],
      "text/plain": [
       "    x         y\n",
       "0   0  1.174660\n",
       "1  10  1.042480\n",
       "2  20  1.048946\n",
       "3  30  0.559490\n",
       "4  40  0.662536"
      ]
     },
     "execution_count": 83,
     "metadata": {},
     "output_type": "execute_result"
    }
   ],
   "source": [
    "data = {\n",
    "    'x' : np.arange(1,11),\n",
    "    'y' : [0,0,0,0,0,0,1,1,1,1]\n",
    "}\n",
    "\n",
    "df = pd.DataFrame({'x' : x,'y' : y})\n",
    "df.head()\n"
   ]
  },
  {
   "cell_type": "code",
   "execution_count": 84,
   "metadata": {},
   "outputs": [
    {
     "data": {
      "text/html": [
       "<div>\n",
       "<style scoped>\n",
       "    .dataframe tbody tr th:only-of-type {\n",
       "        vertical-align: middle;\n",
       "    }\n",
       "\n",
       "    .dataframe tbody tr th {\n",
       "        vertical-align: top;\n",
       "    }\n",
       "\n",
       "    .dataframe thead th {\n",
       "        text-align: right;\n",
       "    }\n",
       "</style>\n",
       "<table border=\"1\" class=\"dataframe\">\n",
       "  <thead>\n",
       "    <tr style=\"text-align: right;\">\n",
       "      <th></th>\n",
       "      <th>x</th>\n",
       "      <th>y</th>\n",
       "      <th>y_pred</th>\n",
       "    </tr>\n",
       "  </thead>\n",
       "  <tbody>\n",
       "    <tr>\n",
       "      <td>0</td>\n",
       "      <td>0</td>\n",
       "      <td>1.174660</td>\n",
       "      <td>0.719693</td>\n",
       "    </tr>\n",
       "    <tr>\n",
       "      <td>1</td>\n",
       "      <td>10</td>\n",
       "      <td>1.042480</td>\n",
       "      <td>0.651828</td>\n",
       "    </tr>\n",
       "    <tr>\n",
       "      <td>2</td>\n",
       "      <td>20</td>\n",
       "      <td>1.048946</td>\n",
       "      <td>0.583962</td>\n",
       "    </tr>\n",
       "    <tr>\n",
       "      <td>3</td>\n",
       "      <td>30</td>\n",
       "      <td>0.559490</td>\n",
       "      <td>0.516096</td>\n",
       "    </tr>\n",
       "    <tr>\n",
       "      <td>4</td>\n",
       "      <td>40</td>\n",
       "      <td>0.662536</td>\n",
       "      <td>0.448231</td>\n",
       "    </tr>\n",
       "  </tbody>\n",
       "</table>\n",
       "</div>"
      ],
      "text/plain": [
       "    x         y    y_pred\n",
       "0   0  1.174660  0.719693\n",
       "1  10  1.042480  0.651828\n",
       "2  20  1.048946  0.583962\n",
       "3  30  0.559490  0.516096\n",
       "4  40  0.662536  0.448231"
      ]
     },
     "execution_count": 84,
     "metadata": {},
     "output_type": "execute_result"
    }
   ],
   "source": [
    "from sklearn.linear_model import LinearRegression\n",
    "model = LinearRegression()\n",
    "model.fit(df[['x']],df['y'])\n",
    "df['y_pred'] = model.predict(df[['x']])\n",
    "df.head()\n"
   ]
  },
  {
   "cell_type": "code",
   "execution_count": 85,
   "metadata": {},
   "outputs": [
    {
     "data": {
      "text/plain": [
       "<matplotlib.legend.Legend at 0xe83c1c8>"
      ]
     },
     "execution_count": 85,
     "metadata": {},
     "output_type": "execute_result"
    },
    {
     "data": {
      "image/png": "[encoded data removed]",
      "text/plain": [
       "<Figure size 432x288 with 1 Axes>"
      ]
     },
     "metadata": {
      "needs_background": "light"
     },
     "output_type": "display_data"
    }
   ],
   "source": [
    "plt.plot (df['x'],df['y'],'g.')\n",
    "plt.plot (df['x'],df['y_pred'],'r-o')\n",
    "plt.legend (['data',' OLS'])"
   ]
  },
  {
   "cell_type": "code",
   "execution_count": null,
   "metadata": {},
   "outputs": [],
   "source": []
  }
 ],
 "metadata": {
  "kernelspec": {
   "display_name": "Python 3",
   "language": "python",
   "name": "python3"
  },
  "language_info": {
   "codemirror_mode": {
    "name": "ipython",
    "version": 3
   },
   "file_extension": ".py",
   "mimetype": "text/x-python",
   "name": "python",
   "nbconvert_exporter": "python",
   "pygments_lexer": "ipython3",
   "version": "3.7.4"
  }
 },
 "nbformat": 4,
 "nbformat_minor": 4
}
